{
  "nbformat": 4,
  "nbformat_minor": 0,
  "metadata": {
    "colab": {
      "provenance": [],
      "authorship_tag": "ABX9TyNJpbwJpNySStqpri3AM8cp",
      "include_colab_link": true
    },
    "kernelspec": {
      "name": "python3",
      "display_name": "Python 3"
    },
    "language_info": {
      "name": "python"
    }
  },
  "cells": [
    {
      "cell_type": "markdown",
      "metadata": {
        "id": "view-in-github",
        "colab_type": "text"
      },
      "source": [
        "<a href=\"https://colab.research.google.com/github/Janita1605/Janita1605/blob/main/Assignment_6_Files%2C_exceptional_handling%2C_logging_and_memory_management.ipynb\" target=\"_parent\"><img src=\"https://colab.research.google.com/assets/colab-badge.svg\" alt=\"Open In Colab\"/></a>"
      ]
    },
    {
      "cell_type": "markdown",
      "source": [
        "Q1: How can you open a file for writing in Python and write a string to it"
      ],
      "metadata": {
        "id": "jOEd61G69yU8"
      }
    },
    {
      "cell_type": "code",
      "execution_count": 3,
      "metadata": {
        "id": "cvb8kFv19qej"
      },
      "outputs": [],
      "source": [
        "with open('example.txt', 'w') as file:\n",
        "    file.write(\"Hello, this is a string written to the file.\")\n"
      ]
    },
    {
      "cell_type": "markdown",
      "source": [
        "Q2: Write a Python program to read the contents of a file and print each line"
      ],
      "metadata": {
        "id": "nb8Bb9dI-ZE8"
      }
    },
    {
      "cell_type": "code",
      "source": [
        "def print_file_contents(file_path):\n",
        "  \"\"\"Reads a file and prints each line.\n",
        "\n",
        "  Args:\n",
        "    file_path: The path to the file.\n",
        "  \"\"\"\n",
        "  try:\n",
        "    with open(file_path, 'r') as file:\n",
        "      for line in file:\n",
        "        print(line, end='')\n",
        "  except FileNotFoundError:\n",
        "    print(f\"Error: File '{file_path}' not found.\")\n",
        "\n",
        "file_path = 'example.txt'\n",
        "print_file_contents(file_path)"
      ],
      "metadata": {
        "colab": {
          "base_uri": "https://localhost:8080/"
        },
        "id": "ArjX_4bB-iLH",
        "outputId": "b43a2a84-95c4-40e7-9501-f6a787d73ca7"
      },
      "execution_count": 4,
      "outputs": [
        {
          "output_type": "stream",
          "name": "stdout",
          "text": [
            "Hello, this is a string written to the file."
          ]
        }
      ]
    },
    {
      "cell_type": "markdown",
      "source": [
        "Q3:How would you handle a case where the file doesn't exist while trying to open it for reading"
      ],
      "metadata": {
        "id": "H6HAUo5c-nZd"
      }
    },
    {
      "cell_type": "code",
      "source": [
        "def read_file_safely(file_path):\n",
        "    \"\"\"Reads a file and prints its contents, handling file not found errors.\n",
        "\n",
        "    Args:\n",
        "      file_path: The path to the file.\n",
        "    \"\"\"\n",
        "    try:\n",
        "        with open(file_path, 'r') as file:\n",
        "            contents = file.read()\n",
        "            print(contents)\n",
        "    except FileNotFoundError:\n",
        "        print(f\"Error: File '{file_path}' not found.\")\n",
        "\n",
        "file_path = 'my_file.txt'\n",
        "read_file_safely(file_path)"
      ],
      "metadata": {
        "colab": {
          "base_uri": "https://localhost:8080/"
        },
        "id": "rWl-fLuF-1JO",
        "outputId": "0d04a90e-4ff7-4bd0-d18e-e72a54f6c085"
      },
      "execution_count": 5,
      "outputs": [
        {
          "output_type": "stream",
          "name": "stdout",
          "text": [
            "Error: File 'my_file.txt' not found.\n"
          ]
        }
      ]
    },
    {
      "cell_type": "markdown",
      "source": [
        "Q4:  Write a Python script that reads from one file and writes its content to another file"
      ],
      "metadata": {
        "id": "BskDlBtC-7eU"
      }
    },
    {
      "cell_type": "code",
      "source": [
        "def copy_file_content(source_file, destination_file):\n",
        "    \"\"\"Copies the content of one file to another.\n",
        "\n",
        "    Args:\n",
        "      source_file: The path to the source file.\n",
        "      destination_file: The path to the destination file.\n",
        "    \"\"\"\n",
        "    try:\n",
        "        with open(source_file, 'r') as source, open(destination_file, 'w') as destination:\n",
        "            for line in source:\n",
        "                destination.write(line)\n",
        "        print(f\"Content copied from '{source_file}' to '{destination_file}' successfully.\")\n",
        "    except FileNotFoundError:\n",
        "        print(f\"Error: Source file '{source_file}' not found.\")\n",
        "    except Exception as e:\n",
        "        print(f\"An error occurred: {e}\")\n",
        "\n",
        "source_file = 'input.txt'\n",
        "destination_file = 'output.txt'\n",
        "copy_file_content(source_file, destination_file)\n"
      ],
      "metadata": {
        "colab": {
          "base_uri": "https://localhost:8080/"
        },
        "id": "Em_da8F-_FkL",
        "outputId": "e1455c64-19b0-4240-c839-3f438c2e58de"
      },
      "execution_count": 9,
      "outputs": [
        {
          "output_type": "stream",
          "name": "stdout",
          "text": [
            "Error: Source file 'input.txt' not found.\n"
          ]
        }
      ]
    },
    {
      "cell_type": "markdown",
      "source": [
        "Q5:  How would you catch and handle division by zero error in Python"
      ],
      "metadata": {
        "id": "LDZbVIEhB53o"
      }
    },
    {
      "cell_type": "code",
      "source": [
        "try:\n",
        "    result = 10 / 0\n",
        "except ZeroDivisionError:\n",
        "    print(\"Error: Cannot divide by zero!\")\n",
        "else:\n",
        "    print(f\"Result: {result}\")\n",
        "finally:\n",
        "    print(\"Execution completed.\")"
      ],
      "metadata": {
        "colab": {
          "base_uri": "https://localhost:8080/"
        },
        "id": "Z3xr63evB7TB",
        "outputId": "0cbff578-8dc6-40a9-b0fa-2e068354ad45"
      },
      "execution_count": 11,
      "outputs": [
        {
          "output_type": "stream",
          "name": "stdout",
          "text": [
            "Error: Cannot divide by zero!\n",
            "Execution completed.\n"
          ]
        }
      ]
    },
    {
      "cell_type": "markdown",
      "source": [
        "Q6: Write a Python program that logs an error message to a log file when a division by zero exception occurs"
      ],
      "metadata": {
        "id": "KTVX21XyCL7c"
      }
    },
    {
      "cell_type": "code",
      "source": [
        "import logging\n",
        "\n",
        "logging.basicConfig(filename='error_log.txt', level=logging.ERROR,\n",
        "                    format='%(asctime)s - %(levelname)s - %(message)s')\n",
        "\n",
        "def divide_numbers(a, b):\n",
        "    try:\n",
        "        result = a / b\n",
        "        return result\n",
        "    except ZeroDivisionError as e:\n",
        "        logging.error(f\"Attempted to divide {a} by {b}. Error: {e}\")\n",
        "        print(\"Error: Cannot divide by zero!\")\n",
        "\n",
        "divide_numbers(10, 0)"
      ],
      "metadata": {
        "colab": {
          "base_uri": "https://localhost:8080/"
        },
        "id": "ZgjI-ZcfCNsS",
        "outputId": "ca5c0dd3-0452-44d9-9cdb-c83f5ed3f956"
      },
      "execution_count": 12,
      "outputs": [
        {
          "output_type": "stream",
          "name": "stderr",
          "text": [
            "ERROR:root:Attempted to divide 10 by 0. Error: division by zero\n"
          ]
        },
        {
          "output_type": "stream",
          "name": "stdout",
          "text": [
            "Error: Cannot divide by zero!\n"
          ]
        }
      ]
    },
    {
      "cell_type": "markdown",
      "source": [
        "Q7: How do you log information at different levels (INFO, ERROR, WARNING) in Python using the logging module"
      ],
      "metadata": {
        "id": "oTHdaKBPCast"
      }
    },
    {
      "cell_type": "code",
      "source": [
        "import logging\n",
        "\n",
        "logging.basicConfig(filename='example_log.txt',\n",
        "                    level=logging.DEBUG,\n",
        "                    format='%(asctime)s - %(levelname)s - %(message)s')\n",
        "\n",
        "logging.debug(\"This is a debug message.\")\n",
        "\n",
        "logging.info(\"This is an info message.\")\n",
        "\n",
        "logging.warning(\"This is a warning message.\")\n",
        "\n",
        "logging.error(\"This is an error message.\")\n",
        "\n",
        "logging.critical(\"This is a critical message.\")"
      ],
      "metadata": {
        "colab": {
          "base_uri": "https://localhost:8080/"
        },
        "id": "EzfaPO4lCcRX",
        "outputId": "f1a0ff6b-7baf-4fbe-834f-0c854c324d32"
      },
      "execution_count": 13,
      "outputs": [
        {
          "output_type": "stream",
          "name": "stderr",
          "text": [
            "WARNING:root:This is a warning message.\n",
            "ERROR:root:This is an error message.\n",
            "CRITICAL:root:This is a critical message.\n"
          ]
        }
      ]
    },
    {
      "cell_type": "markdown",
      "source": [
        "Q8: Write a program to handle a file opening error using exception handling"
      ],
      "metadata": {
        "id": "2ozL6LMQCsPZ"
      }
    },
    {
      "cell_type": "code",
      "source": [
        "try:\n",
        "    with open('non_existent_file.txt', 'r') as file:\n",
        "        content = file.read()\n",
        "        print(content)\n",
        "\n",
        "except FileNotFoundError as e:\n",
        "    print(f\"Error: The file was not found. Details: {e}\")\n",
        "except Exception as e:\n",
        "    print(f\"An unexpected error occurred: {e}\")\n",
        "else:\n",
        "    print(\"File opened and read successfully.\")\n",
        "finally:\n",
        "    print(\"Execution completed.\")"
      ],
      "metadata": {
        "colab": {
          "base_uri": "https://localhost:8080/"
        },
        "id": "citIE80NCyRL",
        "outputId": "02d2d8a8-e248-4e0d-ef92-bdb47b9bc034"
      },
      "execution_count": 14,
      "outputs": [
        {
          "output_type": "stream",
          "name": "stdout",
          "text": [
            "Error: The file was not found. Details: [Errno 2] No such file or directory: 'non_existent_file.txt'\n",
            "Execution completed.\n"
          ]
        }
      ]
    },
    {
      "cell_type": "markdown",
      "source": [
        "Q9: How can you read a file line by line and store its content in a list in Python"
      ],
      "metadata": {
        "id": "NA9S-jgAC6G3"
      }
    },
    {
      "cell_type": "code",
      "source": [
        "\n",
        "with open('example.txt', 'r') as file:\n",
        "    lines = file.readlines()\n",
        "\n",
        "print(lines)"
      ],
      "metadata": {
        "colab": {
          "base_uri": "https://localhost:8080/"
        },
        "id": "mc1PuADYDATs",
        "outputId": "75d9b194-57e1-4066-dad8-2678405482dc"
      },
      "execution_count": 15,
      "outputs": [
        {
          "output_type": "stream",
          "name": "stdout",
          "text": [
            "['Hello, this is a string written to the file.']\n"
          ]
        }
      ]
    },
    {
      "cell_type": "code",
      "source": [
        "with open('example.txt', 'r') as file:\n",
        "    lines = []\n",
        "    for line in file:\n",
        "        lines.append(line.strip())\n",
        "\n",
        "print(lines)"
      ],
      "metadata": {
        "colab": {
          "base_uri": "https://localhost:8080/"
        },
        "id": "SeAGBYFlDHsN",
        "outputId": "e410404f-df04-4dba-f4d8-f0e5f7255575"
      },
      "execution_count": 16,
      "outputs": [
        {
          "output_type": "stream",
          "name": "stdout",
          "text": [
            "['Hello, this is a string written to the file.']\n"
          ]
        }
      ]
    },
    {
      "cell_type": "markdown",
      "source": [
        "Q10:  How can you append data to an existing file in Python"
      ],
      "metadata": {
        "id": "QEgoEOlJDRsy"
      }
    },
    {
      "cell_type": "code",
      "source": [
        "with open('example.txt', 'a') as file:\n",
        "    lines_to_add = [\n",
        "        \"Adding line 1 to the file.\\n\",\n",
        "        \"Adding line 2 to the file.\\n\",\n",
        "        \"Adding line 3 to the file.\\n\"\n",
        "    ]\n",
        "    file.writelines(lines_to_add)"
      ],
      "metadata": {
        "id": "G_ReYLiUDavt"
      },
      "execution_count": 18,
      "outputs": []
    },
    {
      "cell_type": "markdown",
      "source": [
        "Q11:  Write a Python program that uses a try-except block to handle an error when attempting to access a\n",
        "dictionary key that doesn't exist"
      ],
      "metadata": {
        "id": "kGVlSqbFDjhC"
      }
    },
    {
      "cell_type": "code",
      "source": [
        "my_dict = {\n",
        "    'name': 'Alice',\n",
        "    'age': 30,\n",
        "    'city': 'New York'\n",
        "}\n",
        "\n",
        "try:\n",
        "    print(my_dict['country'])\n",
        "except KeyError as e:\n",
        "    print(f\"Error: The key '{e.args[0]}' does not exist in the dictionary.\")"
      ],
      "metadata": {
        "colab": {
          "base_uri": "https://localhost:8080/"
        },
        "id": "BQWOM19HDn0G",
        "outputId": "bf68f26d-9b40-4984-a249-bd88d6182cdc"
      },
      "execution_count": 19,
      "outputs": [
        {
          "output_type": "stream",
          "name": "stdout",
          "text": [
            "Error: The key 'country' does not exist in the dictionary.\n"
          ]
        }
      ]
    },
    {
      "cell_type": "markdown",
      "source": [
        "Q12:  Write a program that demonstrates using multiple except blocks to handle different types of exceptions"
      ],
      "metadata": {
        "id": "L__ZDDTUDw-i"
      }
    },
    {
      "cell_type": "code",
      "source": [
        "def demo_exceptions():\n",
        "    try:\n",
        "        with open('non_existent_file.txt', 'r') as file:\n",
        "            content = file.read()\n",
        "\n",
        "    except ZeroDivisionError:\n",
        "        print(\"Error: Cannot divide by zero!\")\n",
        "    except ValueError:\n",
        "        print(\"Error: Invalid value! Please enter a valid number.\")\n",
        "    except FileNotFoundError:\n",
        "        print(\"Error: The file you are trying to open does not exist.\")\n",
        "    except Exception as e:\n",
        "        print(f\"An unexpected error occurred: {e}\")\n",
        "    else:\n",
        "        print(\"No exceptions occurred. Program ran successfully.\")\n",
        "    finally:\n",
        "        print(\"Execution completed.\")\n",
        "\n",
        "demo_exceptions()"
      ],
      "metadata": {
        "colab": {
          "base_uri": "https://localhost:8080/"
        },
        "id": "REVeVl5iD6Lh",
        "outputId": "e47ff561-8223-479a-f4c2-f1157d48135a"
      },
      "execution_count": 20,
      "outputs": [
        {
          "output_type": "stream",
          "name": "stdout",
          "text": [
            "Error: The file you are trying to open does not exist.\n",
            "Execution completed.\n"
          ]
        }
      ]
    },
    {
      "cell_type": "markdown",
      "source": [
        "Q13: How would you check if a file exists before attempting to read it in Python"
      ],
      "metadata": {
        "id": "EEwjm6R_D-3y"
      }
    },
    {
      "cell_type": "code",
      "source": [
        "from pathlib import Path\n",
        "\n",
        "file_path = Path('example.txt')\n",
        "\n",
        "if file_path.exists():\n",
        "    with open(file_path, 'r') as file:\n",
        "        content = file.read()\n",
        "        print(content)\n",
        "else:\n",
        "    print(f\"The file {file_path} does not exist.\")"
      ],
      "metadata": {
        "colab": {
          "base_uri": "https://localhost:8080/"
        },
        "id": "uYa801R7EH9Z",
        "outputId": "930e2d18-fa0c-45ba-c477-860181d51a8a"
      },
      "execution_count": 21,
      "outputs": [
        {
          "output_type": "stream",
          "name": "stdout",
          "text": [
            "Hello, this is a string written to the file.This is a new line of text added to the file.\n",
            "This is another line added to the file.\n",
            "Adding line 1 to the file.\n",
            "Adding line 2 to the file.\n",
            "Adding line 3 to the file.\n",
            "\n"
          ]
        }
      ]
    },
    {
      "cell_type": "markdown",
      "source": [
        "Q14:  Write a program that uses the logging module to log both informational and error messages"
      ],
      "metadata": {
        "id": "H9ab2HKBENUT"
      }
    },
    {
      "cell_type": "code",
      "source": [
        "import logging\n",
        "\n",
        "logging.basicConfig(\n",
        "    level=logging.DEBUG,\n",
        "    format='%(asctime)s - %(levelname)s - %(message)s',\n",
        "    handlers=[\n",
        "        logging.StreamHandler()\n",
        "    ]\n",
        ")\n",
        "\n",
        "logging.info(\"This is an informational message.\")\n",
        "\n",
        "try:\n",
        "    result = 10 / 0\n",
        "except ZeroDivisionError as e:\n",
        "    logging.error(f\"Error: {e}\")\n",
        "\n",
        "logging.warning(\"This is a warning message.\")\n",
        "\n",
        "logging.debug(\"This is a debug message.\")"
      ],
      "metadata": {
        "colab": {
          "base_uri": "https://localhost:8080/"
        },
        "id": "ZHxu84hiEO3y",
        "outputId": "b7011ea1-8c95-4609-8ce1-5d5b3df3ce0c"
      },
      "execution_count": 22,
      "outputs": [
        {
          "output_type": "stream",
          "name": "stderr",
          "text": [
            "ERROR:root:Error: division by zero\n",
            "WARNING:root:This is a warning message.\n"
          ]
        }
      ]
    },
    {
      "cell_type": "markdown",
      "source": [
        "Q15:  Write a Python program that prints the content of a file and handles the case when the file is empty"
      ],
      "metadata": {
        "id": "qV5Pn0ewEcJS"
      }
    },
    {
      "cell_type": "code",
      "source": [
        "def read_file(file_path):\n",
        "    try:\n",
        "        with open(file_path, 'r') as file:\n",
        "            content = file.read()\n",
        "\n",
        "            if not content:\n",
        "                print(\"The file is empty.\")\n",
        "            else:\n",
        "                print(\"File contents:\")\n",
        "                print(content)\n",
        "\n",
        "    except FileNotFoundError:\n",
        "        print(f\"Error: The file '{file_path}' does not exist.\")\n",
        "    except Exception as e:\n",
        "        print(f\"An unexpected error occurred: {e}\")\n",
        "\n",
        "file_path = 'example.txt'\n",
        "\n",
        "read_file(file_path)"
      ],
      "metadata": {
        "colab": {
          "base_uri": "https://localhost:8080/"
        },
        "id": "Bmoccg4MEfqq",
        "outputId": "94fa28f7-80ec-486b-e0eb-cbf1b083a114"
      },
      "execution_count": 23,
      "outputs": [
        {
          "output_type": "stream",
          "name": "stdout",
          "text": [
            "File contents:\n",
            "Hello, this is a string written to the file.This is a new line of text added to the file.\n",
            "This is another line added to the file.\n",
            "Adding line 1 to the file.\n",
            "Adding line 2 to the file.\n",
            "Adding line 3 to the file.\n",
            "\n"
          ]
        }
      ]
    },
    {
      "cell_type": "markdown",
      "source": [
        "Q16: Demonstrate how to use memory profiling to check the memory usage of a small program"
      ],
      "metadata": {
        "id": "Xs17Cgc3EyWe"
      }
    },
    {
      "cell_type": "code",
      "source": [
        "pip install memory-profiler"
      ],
      "metadata": {
        "colab": {
          "base_uri": "https://localhost:8080/"
        },
        "id": "8dIm3eDGZrJF",
        "outputId": "854cbadf-4e79-48e4-c5ab-04dc07163c65"
      },
      "execution_count": 53,
      "outputs": [
        {
          "output_type": "stream",
          "name": "stdout",
          "text": [
            "Requirement already satisfied: memory-profiler in /usr/local/lib/python3.10/dist-packages (0.61.0)\n",
            "Requirement already satisfied: psutil in /usr/local/lib/python3.10/dist-packages (from memory-profiler) (5.9.5)\n"
          ]
        }
      ]
    },
    {
      "cell_type": "code",
      "source": [
        "# Import the necessary module for memory profiling\n",
        "from memory_profiler import profile\n",
        "\n",
        "# Define a function to demonstrate memory usage\n",
        "@profile\n",
        "def my_function():\n",
        "    a = [1] * (10 ** 6)  # Create a list with 1 million integers\n",
        "    b = [2] * (2 * 10 ** 7)  # Create a list with 20 million integers\n",
        "    del b  # Delete the second list to free memory\n",
        "    return a\n",
        "\n",
        "# Call the function\n",
        "if __name__ == \"__main__\":\n",
        "    my_function()"
      ],
      "metadata": {
        "colab": {
          "base_uri": "https://localhost:8080/"
        },
        "id": "DmF_O332ZvaZ",
        "outputId": "ef42728f-7e2a-415b-a70c-5d54350c281f"
      },
      "execution_count": 57,
      "outputs": [
        {
          "output_type": "stream",
          "name": "stdout",
          "text": [
            "ERROR: Could not find file <ipython-input-57-d081997ec626>\n",
            "NOTE: %mprun can only be used on functions defined in physical files, and not in the IPython environment.\n"
          ]
        }
      ]
    },
    {
      "cell_type": "code",
      "source": [
        "!python -m memory_profiler my_program.py"
      ],
      "metadata": {
        "colab": {
          "base_uri": "https://localhost:8080/"
        },
        "id": "MGMbiSHFZyMw",
        "outputId": "4ec5a129-70fd-4760-bec8-f124115a496a"
      },
      "execution_count": 58,
      "outputs": [
        {
          "output_type": "stream",
          "name": "stdout",
          "text": [
            "Could not find script my_program.py\n"
          ]
        }
      ]
    },
    {
      "cell_type": "markdown",
      "source": [
        "Q17: Write a Python program to create and write a list of numbers to a file, one number per line"
      ],
      "metadata": {
        "id": "_7pGAo5eaIGP"
      }
    },
    {
      "cell_type": "code",
      "source": [
        "numbers = [1, 2, 3, 4, 5, 6, 7, 8, 9, 10]\n",
        "\n",
        "with open('numbers.txt', 'w') as file:\n",
        "    for number in numbers:\n",
        "        file.write(f\"{number}\\n\")\n",
        "\n",
        "print(\"Numbers have been written to 'numbers.txt'.\")"
      ],
      "metadata": {
        "colab": {
          "base_uri": "https://localhost:8080/"
        },
        "id": "QoEdQ6-faToL",
        "outputId": "360d2f01-5484-4714-f567-1a022453fb32"
      },
      "execution_count": 62,
      "outputs": [
        {
          "output_type": "stream",
          "name": "stdout",
          "text": [
            "Numbers have been written to 'numbers.txt'.\n"
          ]
        }
      ]
    },
    {
      "cell_type": "markdown",
      "source": [
        "Q18: How would you implement a basic logging setup that logs to a file with rotation after 1MB"
      ],
      "metadata": {
        "id": "gzfSBJf7anv5"
      }
    },
    {
      "source": [
        "import logging\n",
        "from logging.handlers import RotatingFileHandler\n",
        "\n",
        "logger = logging.getLogger('my_logger')\n",
        "logger.setLevel(logging.DEBUG)\n",
        "\n",
        "handler = RotatingFileHandler(\n",
        "    'my_log.log',\n",
        "    maxBytes=1024 * 1024,\n",
        "    backupCount=5\n",
        ")\n",
        "\n",
        "formatter = logging.Formatter('%(asctime)s - %(name)s - %(levelname)s - %(message)s')\n",
        "handler.setFormatter(formatter)\n",
        "\n",
        "logger.addHandler(handler)\n",
        "\n",
        "logger.debug('This is a debug message.')\n",
        "logger.info('This is an info message.')\n",
        "logger.warning('This is a warning message.')\n",
        "logger.error('This is an error message.')\n",
        "logger.critical('This is a critical message.')"
      ],
      "cell_type": "code",
      "metadata": {
        "colab": {
          "base_uri": "https://localhost:8080/"
        },
        "id": "H-OeHJ9pa5mC",
        "outputId": "d9602380-c5ba-4166-d991-43408070f481"
      },
      "execution_count": 66,
      "outputs": [
        {
          "output_type": "stream",
          "name": "stderr",
          "text": [
            "DEBUG:my_logger:This is a debug message.\n",
            "INFO:my_logger:This is an info message.\n",
            "WARNING:my_logger:This is a warning message.\n",
            "ERROR:my_logger:This is an error message.\n",
            "CRITICAL:my_logger:This is a critical message.\n"
          ]
        }
      ]
    },
    {
      "cell_type": "markdown",
      "source": [
        "Q19: Write a program that handles both IndexError and KeyError using a try-except block"
      ],
      "metadata": {
        "id": "AobLIlSzbFsi"
      }
    },
    {
      "source": [
        "def handle_errors():\n",
        "    my_list = [1, 2, 3]\n",
        "    my_dict = {'a': 1, 'b': 2, 'c': 3}\n",
        "\n",
        "    try:\n",
        "        print(my_list[3])\n",
        "\n",
        "        print(my_dict['d'])\n",
        "    except IndexError:\n",
        "        print(\"Error: Index out of range for the list.\")\n",
        "    except KeyError:\n",
        "        print(\"Error: Key not found in the dictionary.\")\n",
        "    except Exception as e:\n",
        "        print(f\"An unexpected error occurred: {e}\")\n",
        "    else:\n",
        "        print(\"No exceptions occurred. Program ran successfully.\")\n",
        "    finally:\n",
        "        print(\"Execution completed.\")\n",
        "\n",
        "handle_errors()"
      ],
      "cell_type": "code",
      "metadata": {
        "colab": {
          "base_uri": "https://localhost:8080/"
        },
        "id": "bclfIsIvbOCA",
        "outputId": "9e96c516-e230-48a4-df1f-c30105b30064"
      },
      "execution_count": 69,
      "outputs": [
        {
          "output_type": "stream",
          "name": "stdout",
          "text": [
            "Error: Index out of range for the list.\n",
            "Execution completed.\n"
          ]
        }
      ]
    },
    {
      "cell_type": "markdown",
      "source": [
        "Q20:  How would you open a file and read its contents using a context manager in Python"
      ],
      "metadata": {
        "id": "S3eOyY5bbU0M"
      }
    },
    {
      "source": [
        "def read_file_with_context_manager(file_path):\n",
        "  \"\"\"Reads a file using a context manager and prints its contents.\n",
        "\n",
        "  Args:\n",
        "    file_path: The path to the file.\n",
        "  \"\"\"\n",
        "  try:\n",
        "    with open(file_path, 'r') as file:\n",
        "      contents = file.read()\n",
        "      print(contents)\n",
        "  except FileNotFoundError:\n",
        "    print(f\"Error: File '{file_path}' not found.\")\n",
        "  except Exception as e:\n",
        "    print(f\"An unexpected error occurred: {e}\")\n",
        "\n",
        "file_path = 'my_file.txt'\n",
        "read_file_with_context_manager(file_path)"
      ],
      "cell_type": "code",
      "metadata": {
        "colab": {
          "base_uri": "https://localhost:8080/"
        },
        "id": "Sx6rqm95bXQL",
        "outputId": "e6b0d38f-e08d-44b3-c603-08edd1a79740"
      },
      "execution_count": 70,
      "outputs": [
        {
          "output_type": "stream",
          "name": "stdout",
          "text": [
            "Error: File 'my_file.txt' not found.\n"
          ]
        }
      ]
    },
    {
      "cell_type": "markdown",
      "source": [
        "Q21:  Write a Python program that reads a file and prints the number of occurrences of a specific word"
      ],
      "metadata": {
        "id": "C-aoB3gBbhgO"
      }
    },
    {
      "source": [
        "def count_word_in_file(file_path, word_to_count):\n",
        "    try:\n",
        "\n",
        "        with open(file_path, 'r') as file:\n",
        "            content = file.read()\n",
        "\n",
        "        word_count = content.lower().split().count(word_to_count.lower())\n",
        "\n",
        "        print(f\"The word '{word_to_count}' appears {word_count} times in the file.\")\n",
        "\n",
        "    except FileNotFoundError:\n",
        "        print(f\"Error: The file '{file_path}' does not exist.\")\n",
        "    except Exception as e:\n",
        "        print(f\"An error occurred: {e}\")\n",
        "\n",
        "file_path = 'example.txt'\n",
        "word_to_count = 'python'\n",
        "count_word_in_file(file_path, word_to_count)"
      ],
      "cell_type": "code",
      "metadata": {
        "colab": {
          "base_uri": "https://localhost:8080/"
        },
        "id": "SHGmrdAlbk0G",
        "outputId": "a7c2de13-4f48-409a-bcac-5ec8899a1f4d"
      },
      "execution_count": 73,
      "outputs": [
        {
          "output_type": "stream",
          "name": "stdout",
          "text": [
            "The word 'python' appears 0 times in the file.\n"
          ]
        }
      ]
    },
    {
      "cell_type": "markdown",
      "source": [
        "Q22: How can you check if a file is empty before attempting to read its contents"
      ],
      "metadata": {
        "id": "tRt5Hs8ocBDS"
      }
    },
    {
      "source": [
        "import os\n",
        "\n",
        "def is_file_empty(file_path):\n",
        "    \"\"\"Checks if a file is empty.\n",
        "\n",
        "    Args:\n",
        "      file_path: The path to the file.\n",
        "\n",
        "    Returns:\n",
        "      True if the file is empty, False otherwise.\n",
        "    \"\"\"\n",
        "    try:\n",
        "        return os.stat(file_path).st_size == 0\n",
        "    except FileNotFoundError:\n",
        "        print(f\"Error: File '{file_path}' not found.\")\n",
        "        return True\n",
        "    except Exception as e:\n",
        "        print(f\"An unexpected error occurred: {e}\")\n",
        "        return False\n",
        "\n",
        "file_path = 'my_file.txt'\n",
        "if is_file_empty(file_path):\n",
        "    print(f\"The file '{file_path}' is empty.\")\n",
        "else:\n",
        "    print(f\"The file '{file_path}' is not empty.\")"
      ],
      "cell_type": "code",
      "metadata": {
        "colab": {
          "base_uri": "https://localhost:8080/"
        },
        "id": "IkCxit_ecI5s",
        "outputId": "6b147a54-3621-45b6-e61c-4d66b2476e7d"
      },
      "execution_count": 74,
      "outputs": [
        {
          "output_type": "stream",
          "name": "stdout",
          "text": [
            "Error: File 'my_file.txt' not found.\n",
            "The file 'my_file.txt' is empty.\n"
          ]
        }
      ]
    },
    {
      "cell_type": "markdown",
      "source": [
        "Q23:  Write a Python program that writes to a log file when an error occurs during file handling"
      ],
      "metadata": {
        "id": "1vA1f8yFcSb5"
      }
    },
    {
      "source": [
        "import logging\n",
        "\n",
        "def log_file_errors(file_path, log_file_path='file_errors.log'):\n",
        "  \"\"\"Logs errors to a file during file handling operations.\n",
        "\n",
        "  Args:\n",
        "    file_path: The path to the file to be handled.\n",
        "    log_file_path: The path to the log file. Defaults to 'file_errors.log'.\n",
        "  \"\"\"\n",
        "  logging.basicConfig(filename=log_file_path, level=logging.ERROR,\n",
        "                      format='%(asctime)s - %(levelname)s - %(message)s')\n",
        "\n",
        "  try:\n",
        "    with open(file_path, 'r') as file:\n",
        "      contents = file.read()\n",
        "  except FileNotFoundError as e:\n",
        "    logging.error(f\"File not found: {e}\")\n",
        "  except IOError as e:\n",
        "    logging.error(f\"IO error: {e}\")\n",
        "  except Exception as e:\n",
        "    logging.error(f\"An unexpected error occurred: {e}\")\n",
        "\n",
        "file_path = 'my_file.txt'\n",
        "log_file_errors(file_path)"
      ],
      "cell_type": "code",
      "metadata": {
        "colab": {
          "base_uri": "https://localhost:8080/"
        },
        "id": "VBCMCRqPccbh",
        "outputId": "7cb2f647-2d3a-48d2-d248-8edfa4c51678"
      },
      "execution_count": 75,
      "outputs": [
        {
          "output_type": "stream",
          "name": "stderr",
          "text": [
            "ERROR:root:File not found: [Errno 2] No such file or directory: 'my_file.txt'\n"
          ]
        }
      ]
    }
  ]
}