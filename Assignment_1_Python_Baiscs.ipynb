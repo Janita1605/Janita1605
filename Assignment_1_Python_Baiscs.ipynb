{
  "nbformat": 4,
  "nbformat_minor": 0,
  "metadata": {
    "colab": {
      "provenance": [],
      "authorship_tag": "ABX9TyO3QsPLMA+elRgLEfptvZnd",
      "include_colab_link": true
    },
    "kernelspec": {
      "name": "python3",
      "display_name": "Python 3"
    },
    "language_info": {
      "name": "python"
    }
  },
  "cells": [
    {
      "cell_type": "markdown",
      "metadata": {
        "id": "view-in-github",
        "colab_type": "text"
      },
      "source": [
        "<a href=\"https://colab.research.google.com/github/Janita1605/Janita1605/blob/main/Assignment_1_Python_Baiscs.ipynb\" target=\"_parent\"><img src=\"https://colab.research.google.com/assets/colab-badge.svg\" alt=\"Open In Colab\"/></a>"
      ]
    },
    {
      "cell_type": "markdown",
      "source": [
        "Q1: Explain the key features of Python that make it a popular choice for programming"
      ],
      "metadata": {
        "id": "4ZdCaOk7jcDz"
      }
    },
    {
      "cell_type": "code",
      "source": [
        "print(\"Hello, world!\")"
      ],
      "metadata": {
        "colab": {
          "base_uri": "https://localhost:8080/"
        },
        "id": "YtAagmPBjaXR",
        "outputId": "af0d68de-ad7c-42cb-f8e7-8adf0d6337c1"
      },
      "execution_count": null,
      "outputs": [
        {
          "output_type": "stream",
          "name": "stdout",
          "text": [
            "Hello, world!\n"
          ]
        }
      ]
    },
    {
      "cell_type": "markdown",
      "source": [
        "Q2: Describe the role of predefined keywords in Python and provide examples of how they are used in a program\n"
      ],
      "metadata": {
        "id": "MwxUKLGLgwIR"
      }
    },
    {
      "cell_type": "code",
      "source": [
        "import keyword\n",
        "print(keyword.kwlist)"
      ],
      "metadata": {
        "colab": {
          "base_uri": "https://localhost:8080/"
        },
        "id": "a2qZyS-llqo_",
        "outputId": "3f57c32e-b203-4fbc-df24-23548044189b"
      },
      "execution_count": null,
      "outputs": [
        {
          "output_type": "stream",
          "name": "stdout",
          "text": [
            "['False', 'None', 'True', 'and', 'as', 'assert', 'async', 'await', 'break', 'class', 'continue', 'def', 'del', 'elif', 'else', 'except', 'finally', 'for', 'from', 'global', 'if', 'import', 'in', 'is', 'lambda', 'nonlocal', 'not', 'or', 'pass', 'raise', 'return', 'try', 'while', 'with', 'yield']\n"
          ]
        }
      ]
    },
    {
      "cell_type": "code",
      "source": [
        "age = 18\n",
        "if age >= 18:\n",
        "    print(\"Adult\")\n",
        "else:\n",
        "    print(\"Minor\")"
      ],
      "metadata": {
        "colab": {
          "base_uri": "https://localhost:8080/"
        },
        "id": "QU19IELxg2J-",
        "outputId": "4c05c468-9679-4fa0-bb43-36a432778482"
      },
      "execution_count": null,
      "outputs": [
        {
          "output_type": "stream",
          "name": "stdout",
          "text": [
            "Adult\n"
          ]
        }
      ]
    },
    {
      "cell_type": "code",
      "source": [
        "is_raining = False\n",
        "is_sunny = True\n",
        "\n",
        "if is_sunny and not is_raining:\n",
        "    print(\"It's a sunny day!\")"
      ],
      "metadata": {
        "colab": {
          "base_uri": "https://localhost:8080/"
        },
        "id": "9ANVlx3ThN_F",
        "outputId": "64b0f675-ea63-4f0a-ec45-5eaa63a8eaf2"
      },
      "execution_count": null,
      "outputs": [
        {
          "output_type": "stream",
          "name": "stdout",
          "text": [
            "It's a sunny day!\n"
          ]
        }
      ]
    },
    {
      "cell_type": "code",
      "source": [
        "fruits = [\"apple\", \"banana\", \"cherry\"]\n",
        "if \"banana\" in fruits:\n",
        "    print(\"Banana is in the list!\")"
      ],
      "metadata": {
        "colab": {
          "base_uri": "https://localhost:8080/"
        },
        "id": "bjkRnrQliOEK",
        "outputId": "5b23317e-c1f7-42dc-edc7-52698f174445"
      },
      "execution_count": null,
      "outputs": [
        {
          "output_type": "stream",
          "name": "stdout",
          "text": [
            "Banana is in the list!\n"
          ]
        }
      ]
    },
    {
      "cell_type": "markdown",
      "source": [
        "Q3:  Compare and contrast mutable and immutable objects in Python with examples"
      ],
      "metadata": {
        "id": "CpRk7t1dider"
      }
    },
    {
      "cell_type": "markdown",
      "source": [
        "Mutable Example"
      ],
      "metadata": {
        "id": "WPDSiOsumXGw"
      }
    },
    {
      "cell_type": "code",
      "source": [
        "my_set = {1, 2, 3}\n",
        "my_set.add(4)             # Adds an item\n",
        "print(my_set)"
      ],
      "metadata": {
        "colab": {
          "base_uri": "https://localhost:8080/"
        },
        "id": "6IoeCs-alziz",
        "outputId": "3cf7c3af-288a-4cc5-8c4f-7d20daf29695"
      },
      "execution_count": null,
      "outputs": [
        {
          "output_type": "stream",
          "name": "stdout",
          "text": [
            "{1, 2, 3, 4}\n"
          ]
        }
      ]
    },
    {
      "cell_type": "markdown",
      "source": [
        "Immutable Example"
      ],
      "metadata": {
        "id": "LXKPIfbhncyQ"
      }
    },
    {
      "cell_type": "code",
      "source": [
        "my_string = \"Hello\"\n",
        "my_string += \" World\"  # Creates a new string\n",
        "print(my_string)"
      ],
      "metadata": {
        "colab": {
          "base_uri": "https://localhost:8080/"
        },
        "id": "NHtEEhibnf3A",
        "outputId": "f7e8beca-16e6-43a1-cb21-ed9b20c324e3"
      },
      "execution_count": null,
      "outputs": [
        {
          "output_type": "stream",
          "name": "stdout",
          "text": [
            "Hello World\n"
          ]
        }
      ]
    },
    {
      "cell_type": "markdown",
      "source": [
        "Q4: Discuss the different types of operators in Python and provide examples of how they are used"
      ],
      "metadata": {
        "id": "qreAxAYe5I0B"
      }
    },
    {
      "cell_type": "markdown",
      "source": [
        "1. Arithmetic Operators"
      ],
      "metadata": {
        "id": "oCmxP3ayhiiO"
      }
    },
    {
      "cell_type": "code",
      "source": [
        "a = 10\n",
        "b = 3\n",
        "print(a + b)"
      ],
      "metadata": {
        "colab": {
          "base_uri": "https://localhost:8080/"
        },
        "id": "ltdv7gA_hpMM",
        "outputId": "0071e2af-ef53-491a-ba8c-047be214ef35"
      },
      "execution_count": null,
      "outputs": [
        {
          "output_type": "stream",
          "name": "stdout",
          "text": [
            "13\n"
          ]
        }
      ]
    },
    {
      "cell_type": "code",
      "source": [
        "print(a * b)"
      ],
      "metadata": {
        "colab": {
          "base_uri": "https://localhost:8080/"
        },
        "id": "rfpQSuydiU9C",
        "outputId": "e8b5e991-95ad-450e-ede3-cd6c3221b1e5"
      },
      "execution_count": null,
      "outputs": [
        {
          "output_type": "stream",
          "name": "stdout",
          "text": [
            "30\n"
          ]
        }
      ]
    },
    {
      "cell_type": "code",
      "source": [
        "print(a - b)"
      ],
      "metadata": {
        "colab": {
          "base_uri": "https://localhost:8080/"
        },
        "id": "7XIwN-7SiNGm",
        "outputId": "0605a10a-e37a-4e0d-bdaa-afcf50fdb0ac"
      },
      "execution_count": null,
      "outputs": [
        {
          "output_type": "stream",
          "name": "stdout",
          "text": [
            "7\n"
          ]
        }
      ]
    },
    {
      "cell_type": "code",
      "source": [
        "print(a % b)"
      ],
      "metadata": {
        "colab": {
          "base_uri": "https://localhost:8080/"
        },
        "id": "JvSKG_YficGO",
        "outputId": "d324e8b0-c793-4c0f-e045-aaeb8203f65e"
      },
      "execution_count": null,
      "outputs": [
        {
          "output_type": "stream",
          "name": "stdout",
          "text": [
            "1\n"
          ]
        }
      ]
    },
    {
      "cell_type": "markdown",
      "source": [
        "2. Comparison Operators"
      ],
      "metadata": {
        "id": "Z0VGuDMSim8l"
      }
    },
    {
      "cell_type": "code",
      "source": [
        "x = 5\n",
        "y = 3\n",
        "print(x > y)"
      ],
      "metadata": {
        "colab": {
          "base_uri": "https://localhost:8080/"
        },
        "id": "YPWAfn5_ipgb",
        "outputId": "5a228c2e-8aba-4ddf-f409-f73b091a3aef"
      },
      "execution_count": null,
      "outputs": [
        {
          "output_type": "stream",
          "name": "stdout",
          "text": [
            "True\n"
          ]
        }
      ]
    },
    {
      "cell_type": "code",
      "source": [
        "print(x == y)"
      ],
      "metadata": {
        "colab": {
          "base_uri": "https://localhost:8080/"
        },
        "id": "7Y478qkSjV8Q",
        "outputId": "af708686-999a-4f9a-d4ca-b737d7475e85"
      },
      "execution_count": null,
      "outputs": [
        {
          "output_type": "stream",
          "name": "stdout",
          "text": [
            "False\n"
          ]
        }
      ]
    },
    {
      "cell_type": "code",
      "source": [
        "print(y <= 2)"
      ],
      "metadata": {
        "colab": {
          "base_uri": "https://localhost:8080/"
        },
        "id": "RmreVmk4jZLy",
        "outputId": "3ce2ca46-77f7-43d5-8b61-ea2214fb6723"
      },
      "execution_count": null,
      "outputs": [
        {
          "output_type": "stream",
          "name": "stdout",
          "text": [
            "False\n"
          ]
        }
      ]
    },
    {
      "cell_type": "markdown",
      "source": [
        "3. Logical Operators"
      ],
      "metadata": {
        "id": "Lr6ITqoDkLd5"
      }
    },
    {
      "cell_type": "code",
      "source": [
        "a = True\n",
        "b = False\n",
        "print(a and b)"
      ],
      "metadata": {
        "colab": {
          "base_uri": "https://localhost:8080/"
        },
        "id": "pMpEh9X7kNcO",
        "outputId": "cdffc10e-4477-46d0-eb24-1a1f5f09c1d0"
      },
      "execution_count": null,
      "outputs": [
        {
          "output_type": "stream",
          "name": "stdout",
          "text": [
            "False\n"
          ]
        }
      ]
    },
    {
      "cell_type": "code",
      "source": [
        "print(a or b)"
      ],
      "metadata": {
        "colab": {
          "base_uri": "https://localhost:8080/"
        },
        "id": "cEB5bZuekU3U",
        "outputId": "d5ad35d8-723b-4a26-9898-45c2fb8312ed"
      },
      "execution_count": null,
      "outputs": [
        {
          "output_type": "stream",
          "name": "stdout",
          "text": [
            "True\n"
          ]
        }
      ]
    },
    {
      "cell_type": "code",
      "source": [
        "print(not a)"
      ],
      "metadata": {
        "colab": {
          "base_uri": "https://localhost:8080/"
        },
        "id": "9UIpKWcRkXEi",
        "outputId": "358d7181-3c67-43f1-9d7e-4164f207610c"
      },
      "execution_count": null,
      "outputs": [
        {
          "output_type": "stream",
          "name": "stdout",
          "text": [
            "False\n"
          ]
        }
      ]
    },
    {
      "cell_type": "markdown",
      "source": [
        "4. Assignment Operators"
      ],
      "metadata": {
        "id": "rWO4IBXYkYol"
      }
    },
    {
      "cell_type": "code",
      "source": [
        "x = 10\n",
        "x += 5\n",
        "print(x)"
      ],
      "metadata": {
        "colab": {
          "base_uri": "https://localhost:8080/"
        },
        "id": "rjk1dILylOie",
        "outputId": "7ad48fca-a18a-414d-b8a4-c3e1c89767ab"
      },
      "execution_count": null,
      "outputs": [
        {
          "output_type": "stream",
          "name": "stdout",
          "text": [
            "15\n"
          ]
        }
      ]
    },
    {
      "cell_type": "code",
      "source": [
        "x *= 2\n",
        "print(x)"
      ],
      "metadata": {
        "colab": {
          "base_uri": "https://localhost:8080/"
        },
        "id": "1eqm7q8HlZC4",
        "outputId": "337c33b5-f4f4-4ade-fafd-98ba1e694d7f"
      },
      "execution_count": null,
      "outputs": [
        {
          "output_type": "stream",
          "name": "stdout",
          "text": [
            "30\n"
          ]
        }
      ]
    },
    {
      "cell_type": "markdown",
      "source": [
        "5. Bitwise Operato"
      ],
      "metadata": {
        "id": "gG6IM9WPldtK"
      }
    },
    {
      "cell_type": "code",
      "source": [
        "a = 5\n",
        "b = 3\n",
        "print(a & b)"
      ],
      "metadata": {
        "colab": {
          "base_uri": "https://localhost:8080/"
        },
        "id": "JNZ0n-n3ljbf",
        "outputId": "1977cb9f-639e-4a83-8bfa-2c22acff2f08"
      },
      "execution_count": null,
      "outputs": [
        {
          "output_type": "stream",
          "name": "stdout",
          "text": [
            "1\n"
          ]
        }
      ]
    },
    {
      "cell_type": "code",
      "source": [
        "bin(5)"
      ],
      "metadata": {
        "colab": {
          "base_uri": "https://localhost:8080/",
          "height": 36
        },
        "id": "em-d7bafm9gG",
        "outputId": "52db61fe-c6c2-4ebc-80f4-ede1eebb4498"
      },
      "execution_count": null,
      "outputs": [
        {
          "output_type": "execute_result",
          "data": {
            "text/plain": [
              "'0b101'"
            ],
            "application/vnd.google.colaboratory.intrinsic+json": {
              "type": "string"
            }
          },
          "metadata": {},
          "execution_count": 17
        }
      ]
    },
    {
      "cell_type": "code",
      "source": [
        "bin(3)"
      ],
      "metadata": {
        "colab": {
          "base_uri": "https://localhost:8080/",
          "height": 36
        },
        "id": "g4Gho0V_nCF4",
        "outputId": "dc4eeef0-413a-4320-9dec-dfb9a9a2c029"
      },
      "execution_count": null,
      "outputs": [
        {
          "output_type": "execute_result",
          "data": {
            "text/plain": [
              "'0b11'"
            ],
            "application/vnd.google.colaboratory.intrinsic+json": {
              "type": "string"
            }
          },
          "metadata": {},
          "execution_count": 18
        }
      ]
    },
    {
      "cell_type": "code",
      "source": [
        "bin(1)"
      ],
      "metadata": {
        "colab": {
          "base_uri": "https://localhost:8080/",
          "height": 36
        },
        "id": "B_NVw1mwnF1i",
        "outputId": "90ebd19b-ea34-4d38-fa31-c16541fa8188"
      },
      "execution_count": null,
      "outputs": [
        {
          "output_type": "execute_result",
          "data": {
            "text/plain": [
              "'0b1'"
            ],
            "application/vnd.google.colaboratory.intrinsic+json": {
              "type": "string"
            }
          },
          "metadata": {},
          "execution_count": 19
        }
      ]
    },
    {
      "cell_type": "code",
      "source": [
        "print(a << 1)"
      ],
      "metadata": {
        "colab": {
          "base_uri": "https://localhost:8080/"
        },
        "id": "D9NiGnYDnUSw",
        "outputId": "15ef8312-e5bd-48d0-9340-071bbd359fe7"
      },
      "execution_count": null,
      "outputs": [
        {
          "output_type": "stream",
          "name": "stdout",
          "text": [
            "10\n"
          ]
        }
      ]
    },
    {
      "cell_type": "code",
      "source": [
        "bin(10)"
      ],
      "metadata": {
        "colab": {
          "base_uri": "https://localhost:8080/",
          "height": 36
        },
        "id": "Pq6EkgEFnb19",
        "outputId": "ce254e1b-4870-42bf-f687-8af2b5c9f1b8"
      },
      "execution_count": null,
      "outputs": [
        {
          "output_type": "execute_result",
          "data": {
            "text/plain": [
              "'0b1010'"
            ],
            "application/vnd.google.colaboratory.intrinsic+json": {
              "type": "string"
            }
          },
          "metadata": {},
          "execution_count": 21
        }
      ]
    },
    {
      "cell_type": "markdown",
      "source": [
        "6. Identity Operators"
      ],
      "metadata": {
        "id": "90IcsYAHnvr9"
      }
    },
    {
      "cell_type": "code",
      "source": [
        "a = [1, 2, 3]\n",
        "b = a\n",
        "c = list(a)\n",
        "print(a is b)"
      ],
      "metadata": {
        "colab": {
          "base_uri": "https://localhost:8080/"
        },
        "id": "gsIdXMAqnwii",
        "outputId": "e445e3aa-f718-4290-c4c2-1c659074a344"
      },
      "execution_count": null,
      "outputs": [
        {
          "output_type": "stream",
          "name": "stdout",
          "text": [
            "True\n"
          ]
        }
      ]
    },
    {
      "cell_type": "code",
      "source": [
        "print(a is c)"
      ],
      "metadata": {
        "colab": {
          "base_uri": "https://localhost:8080/"
        },
        "id": "-4U_xolvn_B4",
        "outputId": "31e700de-c424-4c72-a780-85ed515e073b"
      },
      "execution_count": null,
      "outputs": [
        {
          "output_type": "stream",
          "name": "stdout",
          "text": [
            "False\n"
          ]
        }
      ]
    },
    {
      "cell_type": "code",
      "source": [
        "print(a == c)"
      ],
      "metadata": {
        "colab": {
          "base_uri": "https://localhost:8080/"
        },
        "id": "ztDAlVl6oBcW",
        "outputId": "8e436ebb-ec22-4d11-9ff4-50da6f297db2"
      },
      "execution_count": null,
      "outputs": [
        {
          "output_type": "stream",
          "name": "stdout",
          "text": [
            "True\n"
          ]
        }
      ]
    },
    {
      "cell_type": "markdown",
      "source": [
        "7. Membership Operators"
      ],
      "metadata": {
        "id": "XGJQrebioClO"
      }
    },
    {
      "cell_type": "code",
      "source": [
        "my_list = [1, 2, 3, 4]\n",
        "print(3 in my_list)"
      ],
      "metadata": {
        "colab": {
          "base_uri": "https://localhost:8080/"
        },
        "id": "9G3QfGItocJG",
        "outputId": "8db56f0f-b59a-460c-c81b-5f2ff1501c60"
      },
      "execution_count": null,
      "outputs": [
        {
          "output_type": "stream",
          "name": "stdout",
          "text": [
            "True\n"
          ]
        }
      ]
    },
    {
      "cell_type": "code",
      "source": [
        "print(5 not in my_list)"
      ],
      "metadata": {
        "colab": {
          "base_uri": "https://localhost:8080/"
        },
        "id": "f81eb02XokHA",
        "outputId": "08abc9e4-cc62-4e27-895c-1cf84b208f99"
      },
      "execution_count": null,
      "outputs": [
        {
          "output_type": "stream",
          "name": "stdout",
          "text": [
            "True\n"
          ]
        }
      ]
    },
    {
      "cell_type": "markdown",
      "source": [
        "Q5:  Explain the concept of type casting in Python with examples"
      ],
      "metadata": {
        "id": "wOJkO_k2pyGE"
      }
    },
    {
      "cell_type": "markdown",
      "source": [
        "1. Converting String to Integer"
      ],
      "metadata": {
        "id": "9xj2KyeEsbBu"
      }
    },
    {
      "cell_type": "code",
      "source": [
        "age_str = \"25\"\n",
        "age_int = int(age_str)\n",
        "print(age_int)"
      ],
      "metadata": {
        "colab": {
          "base_uri": "https://localhost:8080/"
        },
        "id": "tcK2ahfGskbo",
        "outputId": "df5a38e8-c457-4b08-ff32-b2ab7717ca84"
      },
      "execution_count": null,
      "outputs": [
        {
          "output_type": "stream",
          "name": "stdout",
          "text": [
            "25\n"
          ]
        }
      ]
    },
    {
      "cell_type": "markdown",
      "source": [
        "2. Converting Integer to Float"
      ],
      "metadata": {
        "id": "GZ_ooEFTspxV"
      }
    },
    {
      "cell_type": "code",
      "source": [
        "price = 49.99\n",
        "price_int = int(price)\n",
        "print(price_int)"
      ],
      "metadata": {
        "colab": {
          "base_uri": "https://localhost:8080/"
        },
        "id": "njs0wYTissLj",
        "outputId": "f3a3ace9-b637-49ae-a581-32164d272852"
      },
      "execution_count": null,
      "outputs": [
        {
          "output_type": "stream",
          "name": "stdout",
          "text": [
            "49\n"
          ]
        }
      ]
    },
    {
      "cell_type": "markdown",
      "source": [
        "3. Converting Float to Integer"
      ],
      "metadata": {
        "id": "ve9INF9Rs0gg"
      }
    },
    {
      "cell_type": "code",
      "source": [
        "price = 49.99\n",
        "price_int = int(price)\n",
        "print(price_int)"
      ],
      "metadata": {
        "colab": {
          "base_uri": "https://localhost:8080/"
        },
        "id": "Cclc3BShswbA",
        "outputId": "4c38d966-578e-4219-f3ad-e9e0bf7c74fb"
      },
      "execution_count": null,
      "outputs": [
        {
          "output_type": "stream",
          "name": "stdout",
          "text": [
            "49\n"
          ]
        }
      ]
    },
    {
      "cell_type": "markdown",
      "source": [
        "4. Converting Integer to String"
      ],
      "metadata": {
        "id": "mjNAezB3s78F"
      }
    },
    {
      "cell_type": "code",
      "source": [
        "year = 2023\n",
        "year_str = str(year)\n",
        "print(\"The year is \" + year_str)"
      ],
      "metadata": {
        "colab": {
          "base_uri": "https://localhost:8080/"
        },
        "id": "TjDkQDoss96E",
        "outputId": "7e10f8c6-33d0-4a17-bbe6-8e503e7bb204"
      },
      "execution_count": null,
      "outputs": [
        {
          "output_type": "stream",
          "name": "stdout",
          "text": [
            "The year is 2023\n"
          ]
        }
      ]
    },
    {
      "cell_type": "markdown",
      "source": [
        "5. Converting String to List"
      ],
      "metadata": {
        "id": "PGVb8kVQtC_i"
      }
    },
    {
      "cell_type": "code",
      "source": [
        "word = \"hello\"\n",
        "word_list = list(word)\n",
        "print(word_list)"
      ],
      "metadata": {
        "colab": {
          "base_uri": "https://localhost:8080/"
        },
        "id": "pgzYwcy4tEzp",
        "outputId": "2fb58c23-da69-4d92-d1fe-0a8c9d54bc61"
      },
      "execution_count": null,
      "outputs": [
        {
          "output_type": "stream",
          "name": "stdout",
          "text": [
            "['h', 'e', 'l', 'l', 'o']\n"
          ]
        }
      ]
    },
    {
      "cell_type": "markdown",
      "source": [
        "6. Converting List to Tuple"
      ],
      "metadata": {
        "id": "Aec4LeEstIdy"
      }
    },
    {
      "cell_type": "code",
      "source": [
        "fruits = [\"apple\", \"banana\", \"cherry\"]\n",
        "fruits_tuple = tuple(fruits)\n",
        "print(fruits_tuple)"
      ],
      "metadata": {
        "colab": {
          "base_uri": "https://localhost:8080/"
        },
        "id": "wPgC-9b4tKTG",
        "outputId": "f6a73162-3115-49ec-b9a0-10139a75132f"
      },
      "execution_count": null,
      "outputs": [
        {
          "output_type": "stream",
          "name": "stdout",
          "text": [
            "('apple', 'banana', 'cherry')\n"
          ]
        }
      ]
    },
    {
      "cell_type": "markdown",
      "source": [
        "7. Converting List to Set"
      ],
      "metadata": {
        "id": "IZFJ1DDCtUNe"
      }
    },
    {
      "cell_type": "code",
      "source": [
        "numbers = [1, 2, 2, 3, 4, 4]\n",
        "numbers_set = set(numbers)\n",
        "print(numbers_set)"
      ],
      "metadata": {
        "colab": {
          "base_uri": "https://localhost:8080/"
        },
        "id": "l9ZySsJFtWYr",
        "outputId": "d4e88396-7200-4a9c-f543-637bd2ee3014"
      },
      "execution_count": null,
      "outputs": [
        {
          "output_type": "stream",
          "name": "stdout",
          "text": [
            "{1, 2, 3, 4}\n"
          ]
        }
      ]
    },
    {
      "cell_type": "markdown",
      "source": [
        "Q6:  How do conditional statements work in Python? Illustrate with examples"
      ],
      "metadata": {
        "id": "4_KwFX7FtfJz"
      }
    },
    {
      "cell_type": "markdown",
      "source": [
        "1. Simple if Statement"
      ],
      "metadata": {
        "id": "P8UIybHnu4FM"
      }
    },
    {
      "cell_type": "code",
      "source": [
        "age = 18\n",
        "if age >= 18:\n",
        "    print(\"You can vote.\")"
      ],
      "metadata": {
        "colab": {
          "base_uri": "https://localhost:8080/"
        },
        "id": "o9cobW1Nu78P",
        "outputId": "a4f23402-41ed-496d-c8bf-f8bdbd839b9b"
      },
      "execution_count": null,
      "outputs": [
        {
          "output_type": "stream",
          "name": "stdout",
          "text": [
            "You can vote.\n"
          ]
        }
      ]
    },
    {
      "cell_type": "markdown",
      "source": [
        "2. if-else Statement\n"
      ],
      "metadata": {
        "id": "CPyFiTY8vAXS"
      }
    },
    {
      "cell_type": "code",
      "source": [
        "age = 16\n",
        "if age >= 18:\n",
        "    print(\"You can vote.\")\n",
        "else:\n",
        "    print(\"You cannot vote.\")"
      ],
      "metadata": {
        "colab": {
          "base_uri": "https://localhost:8080/"
        },
        "id": "WWVh3N56vDlo",
        "outputId": "82baf5da-ea57-4ec1-8dd0-5c907824a6c4"
      },
      "execution_count": null,
      "outputs": [
        {
          "output_type": "stream",
          "name": "stdout",
          "text": [
            "You cannot vote.\n"
          ]
        }
      ]
    },
    {
      "cell_type": "markdown",
      "source": [
        "3. if-elif-else Statement\n"
      ],
      "metadata": {
        "id": "7eJ_UOu9vFpV"
      }
    },
    {
      "cell_type": "code",
      "source": [
        "score = 75\n",
        "if score >= 90:\n",
        "    print(\"Grade: A\")\n",
        "elif score >= 80:\n",
        "    print(\"Grade: B\")\n",
        "elif score >= 70:\n",
        "    print(\"Grade: C\")\n",
        "else:\n",
        "    print(\"Grade: F\")"
      ],
      "metadata": {
        "colab": {
          "base_uri": "https://localhost:8080/"
        },
        "id": "v1dYw5tSvHkT",
        "outputId": "74947d06-4ec1-47c3-b7e5-1a8313f6929f"
      },
      "execution_count": null,
      "outputs": [
        {
          "output_type": "stream",
          "name": "stdout",
          "text": [
            "Grade: C\n"
          ]
        }
      ]
    },
    {
      "cell_type": "markdown",
      "source": [
        "4. Nested if Statements\n"
      ],
      "metadata": {
        "id": "rg_xsomtvWdC"
      }
    },
    {
      "cell_type": "code",
      "source": [
        "age = 20\n",
        "has_id = True\n",
        "\n",
        "if age >= 18:\n",
        "    if has_id:\n",
        "        print(\"You can enter.\")\n",
        "    else:\n",
        "        print(\"ID is required.\")\n",
        "else:\n",
        "    print(\"You are not old enough.\")"
      ],
      "metadata": {
        "colab": {
          "base_uri": "https://localhost:8080/"
        },
        "id": "QZ5I8KY8vXdJ",
        "outputId": "7d779169-5e5d-498f-cd7f-12ab1cdd9ef1"
      },
      "execution_count": null,
      "outputs": [
        {
          "output_type": "stream",
          "name": "stdout",
          "text": [
            "You can enter.\n"
          ]
        }
      ]
    },
    {
      "cell_type": "markdown",
      "source": [
        "5. Conditional Expressions (Ternary Operator)\n"
      ],
      "metadata": {
        "id": "frKBPpJlvfQQ"
      }
    },
    {
      "cell_type": "code",
      "source": [
        "age = 17\n",
        "status = \"adult\" if age >= 18 else \"minor\"\n",
        "print(status)"
      ],
      "metadata": {
        "colab": {
          "base_uri": "https://localhost:8080/"
        },
        "id": "Va7cBZstvh_s",
        "outputId": "49793bb5-b02d-42a0-933d-18110c175df8"
      },
      "execution_count": null,
      "outputs": [
        {
          "output_type": "stream",
          "name": "stdout",
          "text": [
            "minor\n"
          ]
        }
      ]
    },
    {
      "cell_type": "markdown",
      "source": [
        "Q7: Describe the different types of loops in Python and their use cases with examples\n",
        "\n"
      ],
      "metadata": {
        "id": "UBQf4pEzvlT3"
      }
    },
    {
      "cell_type": "markdown",
      "source": [
        "1. for Loop"
      ],
      "metadata": {
        "id": "loKMvSn31vwo"
      }
    },
    {
      "cell_type": "code",
      "source": [
        "fruits = [\"apple\", \"banana\", \"cherry\"]\n",
        "for fruit in fruits:\n",
        "    print(fruit)"
      ],
      "metadata": {
        "colab": {
          "base_uri": "https://localhost:8080/"
        },
        "id": "EmflQ6AL1HV-",
        "outputId": "db11a3b0-0457-4ca2-ffbb-630f26689d9e"
      },
      "execution_count": null,
      "outputs": [
        {
          "output_type": "stream",
          "name": "stdout",
          "text": [
            "apple\n",
            "banana\n",
            "cherry\n"
          ]
        }
      ]
    },
    {
      "cell_type": "markdown",
      "source": [
        "2. while Loop"
      ],
      "metadata": {
        "id": "_ja11KLn1tFK"
      }
    },
    {
      "cell_type": "code",
      "source": [
        "count = 0\n",
        "while count < 3:\n",
        "    print(\"Hello\")\n",
        "    count += 1"
      ],
      "metadata": {
        "colab": {
          "base_uri": "https://localhost:8080/"
        },
        "id": "FTe8kqnS1tpo",
        "outputId": "6dd74145-ad98-4818-8c6f-03bd2f28dd99"
      },
      "execution_count": null,
      "outputs": [
        {
          "output_type": "stream",
          "name": "stdout",
          "text": [
            "Hello\n",
            "Hello\n",
            "Hello\n"
          ]
        }
      ]
    },
    {
      "cell_type": "markdown",
      "source": [
        "3. Nested Loops"
      ],
      "metadata": {
        "id": "goBaIjSB15OT"
      }
    },
    {
      "cell_type": "code",
      "source": [
        "matrix = [\n",
        "    [1, 2, 3],\n",
        "    [4, 5, 6],\n",
        "    [7, 8, 9]\n",
        "]\n",
        "\n",
        "for row in matrix:\n",
        "    for item in row:\n",
        "        print(item, end=\" \")\n",
        "    print()"
      ],
      "metadata": {
        "colab": {
          "base_uri": "https://localhost:8080/"
        },
        "id": "1NZOvAR41_XV",
        "outputId": "675cb48c-779f-415d-f625-fe123d83a98a"
      },
      "execution_count": null,
      "outputs": [
        {
          "output_type": "stream",
          "name": "stdout",
          "text": [
            "1 2 3 \n",
            "4 5 6 \n",
            "7 8 9 \n"
          ]
        }
      ]
    },
    {
      "cell_type": "markdown",
      "source": [
        "4. Loop Control Statements"
      ],
      "metadata": {
        "id": "_k9nfeT_2EH8"
      }
    },
    {
      "cell_type": "code",
      "source": [
        "for num in range(5):\n",
        "    if num == 3:\n",
        "        break\n",
        "    elif num == 1:\n",
        "        continue\n",
        "    print(num)"
      ],
      "metadata": {
        "colab": {
          "base_uri": "https://localhost:8080/"
        },
        "id": "XUHQXXpx2Gdk",
        "outputId": "4f9f8ed8-cd48-47b6-8f8d-e8e247674eb7"
      },
      "execution_count": null,
      "outputs": [
        {
          "output_type": "stream",
          "name": "stdout",
          "text": [
            "0\n",
            "2\n"
          ]
        }
      ]
    }
  ]
}