{
  "nbformat": 4,
  "nbformat_minor": 0,
  "metadata": {
    "colab": {
      "provenance": [],
      "authorship_tag": "ABX9TyOIhM2ldO5h5KieGQVdRamD",
      "include_colab_link": true
    },
    "kernelspec": {
      "name": "python3",
      "display_name": "Python 3"
    },
    "language_info": {
      "name": "python"
    }
  },
  "cells": [
    {
      "cell_type": "markdown",
      "metadata": {
        "id": "view-in-github",
        "colab_type": "text"
      },
      "source": [
        "<a href=\"https://colab.research.google.com/github/Janita1605/Janita1605/blob/main/Assignment_4_Functions.ipynb\" target=\"_parent\"><img src=\"https://colab.research.google.com/assets/colab-badge.svg\" alt=\"Open In Colab\"/></a>"
      ]
    },
    {
      "cell_type": "markdown",
      "source": [
        "**Theory Questions:**"
      ],
      "metadata": {
        "id": "bb_nuta6M5j6"
      }
    },
    {
      "cell_type": "markdown",
      "source": [
        "Q1: What is the difference between a function and a method in Python?\n",
        "\n"
      ],
      "metadata": {
        "id": "ZE43CjRsMrlK"
      }
    },
    {
      "cell_type": "markdown",
      "source": [
        "Function:"
      ],
      "metadata": {
        "id": "rc6fUHIENnrY"
      }
    },
    {
      "cell_type": "code",
      "source": [
        "def greet(name):\n",
        "    return f\"Hello, {name}!\"\n",
        "\n",
        "print(greet(\"Alice\"))"
      ],
      "metadata": {
        "colab": {
          "base_uri": "https://localhost:8080/"
        },
        "id": "ASold99RMuK_",
        "outputId": "21b86fdb-c477-45dd-82e2-f970fc55d42e"
      },
      "execution_count": null,
      "outputs": [
        {
          "output_type": "stream",
          "name": "stdout",
          "text": [
            "Hello, Alice!\n"
          ]
        }
      ]
    },
    {
      "cell_type": "markdown",
      "source": [
        "Method:"
      ],
      "metadata": {
        "id": "XABHGVvaNrQQ"
      }
    },
    {
      "cell_type": "code",
      "source": [
        "class Greeter:\n",
        "    def greet(self, name):\n",
        "        return f\"Hello, {name}!\"\n",
        "\n",
        "greeter = Greeter()\n",
        "print(greeter.greet(\"Alice\"))"
      ],
      "metadata": {
        "colab": {
          "base_uri": "https://localhost:8080/"
        },
        "id": "necVgja_NuKQ",
        "outputId": "67b3317a-6f5f-41c8-d2fd-9e99cbdc9ff4"
      },
      "execution_count": null,
      "outputs": [
        {
          "output_type": "stream",
          "name": "stdout",
          "text": [
            "Hello, Alice!\n"
          ]
        }
      ]
    },
    {
      "cell_type": "markdown",
      "source": [
        "Q2: Explain the concept of function arguments and parameters in Python"
      ],
      "metadata": {
        "id": "bE0kSvJDN3Uy"
      }
    },
    {
      "cell_type": "code",
      "source": [
        "def greet(name, age):\n",
        "    print(f\"Hello, {name}! You are {age} years old.\")\n",
        "\n",
        "greet(\"Alice\", 25)"
      ],
      "metadata": {
        "colab": {
          "base_uri": "https://localhost:8080/"
        },
        "id": "m_QiBCpdOyu5",
        "outputId": "a3e6bc5c-dda1-4803-d066-03b89b547faf"
      },
      "execution_count": null,
      "outputs": [
        {
          "output_type": "stream",
          "name": "stdout",
          "text": [
            "Hello, Alice! You are 25 years old.\n"
          ]
        }
      ]
    },
    {
      "cell_type": "markdown",
      "source": [
        "Q3: What are the different ways to define and call a function in Python?"
      ],
      "metadata": {
        "id": "zhGzUVSwPU8Z"
      }
    },
    {
      "cell_type": "code",
      "source": [
        "def greet(name, age):\n",
        "    print(f\"Hello, {name}! You are {age} years old.\")\n",
        "\n",
        "greet(age=25, name=\"Alice\")"
      ],
      "metadata": {
        "colab": {
          "base_uri": "https://localhost:8080/"
        },
        "id": "BDtrkU30QAPC",
        "outputId": "e2377555-1fae-49a3-9aee-48c544c7084a"
      },
      "execution_count": null,
      "outputs": [
        {
          "output_type": "stream",
          "name": "stdout",
          "text": [
            "Hello, Alice! You are 25 years old.\n"
          ]
        }
      ]
    },
    {
      "cell_type": "code",
      "source": [
        "def greet(name=\"Guest\"):\n",
        "    print(f\"Hello, {name}!\")\n",
        "\n",
        "greet()\n",
        "greet(\"Bob\")"
      ],
      "metadata": {
        "colab": {
          "base_uri": "https://localhost:8080/"
        },
        "id": "vOVOFEF5QFKt",
        "outputId": "5545d410-5ab0-4a90-d9c2-2bdc9d8766d5"
      },
      "execution_count": null,
      "outputs": [
        {
          "output_type": "stream",
          "name": "stdout",
          "text": [
            "Hello, Guest!\n",
            "Hello, Bob!\n"
          ]
        }
      ]
    },
    {
      "cell_type": "code",
      "source": [
        "square = lambda x: x ** 2\n",
        "print(square(5))"
      ],
      "metadata": {
        "colab": {
          "base_uri": "https://localhost:8080/"
        },
        "id": "PlHLKMyoQJ9z",
        "outputId": "8369c2c6-640b-42ed-aab6-e041cc403215"
      },
      "execution_count": null,
      "outputs": [
        {
          "output_type": "stream",
          "name": "stdout",
          "text": [
            "25\n"
          ]
        }
      ]
    },
    {
      "cell_type": "markdown",
      "source": [
        "Q4: What is the purpose of the `return` statement in a Python function?"
      ],
      "metadata": {
        "id": "Qcf-N_0JQRWp"
      }
    },
    {
      "cell_type": "code",
      "source": [
        "def add(a, b):\n",
        "    return a + b\n",
        "\n",
        "result = add(3, 4)\n",
        "print(result)"
      ],
      "metadata": {
        "colab": {
          "base_uri": "https://localhost:8080/"
        },
        "id": "yBXTCPbFQ0UX",
        "outputId": "a6e69656-257c-4309-feb7-4bd003aeef36"
      },
      "execution_count": null,
      "outputs": [
        {
          "output_type": "stream",
          "name": "stdout",
          "text": [
            "7\n"
          ]
        }
      ]
    },
    {
      "cell_type": "code",
      "source": [
        "def greet(name):\n",
        "    print(f\"Hello, {name}!\")\n",
        "\n",
        "result = greet(\"Alice\")\n",
        "print(result)"
      ],
      "metadata": {
        "colab": {
          "base_uri": "https://localhost:8080/"
        },
        "id": "cMPTcDHJQ3SV",
        "outputId": "d35967c8-41f0-41c6-8622-1b8a7c923e89"
      },
      "execution_count": null,
      "outputs": [
        {
          "output_type": "stream",
          "name": "stdout",
          "text": [
            "Hello, Alice!\n",
            "None\n"
          ]
        }
      ]
    },
    {
      "cell_type": "markdown",
      "source": [
        "Q5: What are iterators in Python and how do they differ from iterables?"
      ],
      "metadata": {
        "id": "blBtYv7EQ_4S"
      }
    },
    {
      "cell_type": "markdown",
      "source": [
        "Iterables:"
      ],
      "metadata": {
        "id": "4mcluT14Re9o"
      }
    },
    {
      "cell_type": "code",
      "source": [
        "my_list = [1, 2, 3]\n",
        "for item in my_list:\n",
        "    print(item)"
      ],
      "metadata": {
        "colab": {
          "base_uri": "https://localhost:8080/"
        },
        "id": "gNk0JK73Ri98",
        "outputId": "a227dad1-67b4-4c62-e16f-91a77eedcb74"
      },
      "execution_count": null,
      "outputs": [
        {
          "output_type": "stream",
          "name": "stdout",
          "text": [
            "1\n",
            "2\n",
            "3\n"
          ]
        }
      ]
    },
    {
      "cell_type": "markdown",
      "source": [
        "Iterators:"
      ],
      "metadata": {
        "id": "qn7pBZ0FRkiV"
      }
    },
    {
      "cell_type": "code",
      "source": [
        "my_iter = iter([1, 2, 3])\n",
        "print(next(my_iter))\n",
        "print(next(my_iter))\n",
        "print(next(my_iter))"
      ],
      "metadata": {
        "colab": {
          "base_uri": "https://localhost:8080/"
        },
        "id": "lzbLAM5uRi1O",
        "outputId": "117d520a-244b-4425-a9a4-12ce6fe46250"
      },
      "execution_count": null,
      "outputs": [
        {
          "output_type": "stream",
          "name": "stdout",
          "text": [
            "1\n",
            "2\n",
            "3\n"
          ]
        }
      ]
    },
    {
      "cell_type": "markdown",
      "source": [
        "Q6: Explain the concept of generators in Python and how they are defined."
      ],
      "metadata": {
        "id": "TTk4NDw7SHgn"
      }
    },
    {
      "cell_type": "code",
      "source": [
        "def count_up_to(n):\n",
        "    count = 1\n",
        "    while count <= n:\n",
        "        yield count\n",
        "        count += 1\n",
        "\n",
        "gen = count_up_to(5)\n",
        "\n",
        "for num in gen:\n",
        "    print(num)"
      ],
      "metadata": {
        "colab": {
          "base_uri": "https://localhost:8080/"
        },
        "id": "yBuFv-88Sm6z",
        "outputId": "73646344-8825-4820-a70a-a7bc9ee19957"
      },
      "execution_count": null,
      "outputs": [
        {
          "output_type": "stream",
          "name": "stdout",
          "text": [
            "1\n",
            "2\n",
            "3\n",
            "4\n",
            "5\n"
          ]
        }
      ]
    },
    {
      "cell_type": "code",
      "source": [
        "\n",
        "gen_exp = (x**2 for x in range(5))\n",
        "\n",
        "for num in gen_exp:\n",
        "    print(num)"
      ],
      "metadata": {
        "colab": {
          "base_uri": "https://localhost:8080/"
        },
        "id": "Fd-adL7tSu3i",
        "outputId": "262c0bb9-5af0-4b1b-bc48-1287d287d5e1"
      },
      "execution_count": null,
      "outputs": [
        {
          "output_type": "stream",
          "name": "stdout",
          "text": [
            "0\n",
            "1\n",
            "4\n",
            "9\n",
            "16\n"
          ]
        }
      ]
    },
    {
      "cell_type": "markdown",
      "source": [
        "Q7: What are the advantages of using generators over regular functions?"
      ],
      "metadata": {
        "id": "j5iPrNJOS-Z_"
      }
    },
    {
      "cell_type": "code",
      "source": [
        "def count_up_to(n):\n",
        "    count = 1\n",
        "    while count <= n:\n",
        "        yield count\n",
        "        count += 1\n",
        "\n",
        "gen = count_up_to(5)\n",
        "for num in gen:\n",
        "    print(num)"
      ],
      "metadata": {
        "colab": {
          "base_uri": "https://localhost:8080/"
        },
        "id": "BU3YmV1sTwrk",
        "outputId": "7aa301c1-93cb-4b53-f62d-506f31b53128"
      },
      "execution_count": null,
      "outputs": [
        {
          "output_type": "stream",
          "name": "stdout",
          "text": [
            "1\n",
            "2\n",
            "3\n",
            "4\n",
            "5\n"
          ]
        }
      ]
    },
    {
      "cell_type": "code",
      "source": [
        "def infinite_numbers():\n",
        "    num = 0\n",
        "    while True:\n",
        "        yield num\n",
        "        num += 1\n",
        "\n",
        "gen = infinite_numbers()\n",
        "for _ in range(5):\n",
        "    print(next(gen))"
      ],
      "metadata": {
        "colab": {
          "base_uri": "https://localhost:8080/"
        },
        "id": "ZU7whurcT2zy",
        "outputId": "e173fee4-5ddc-409e-a542-feca51cab0a7"
      },
      "execution_count": null,
      "outputs": [
        {
          "output_type": "stream",
          "name": "stdout",
          "text": [
            "0\n",
            "1\n",
            "2\n",
            "3\n",
            "4\n"
          ]
        }
      ]
    },
    {
      "cell_type": "markdown",
      "source": [
        "Q8: What is a lambda function in Python and when is it typically used?"
      ],
      "metadata": {
        "id": "TOAKmpC4UAM3"
      }
    },
    {
      "cell_type": "code",
      "source": [
        "def add(x, y):\n",
        "    return x + y\n",
        "\n",
        "add_lambda = lambda x, y: x + y\n",
        "\n",
        "print(add(3, 5))\n",
        "print(add_lambda(3, 5))"
      ],
      "metadata": {
        "colab": {
          "base_uri": "https://localhost:8080/"
        },
        "id": "_Q2jaI9CXKmI",
        "outputId": "fdc98087-6cf4-40e5-87bd-b11e6b32174b"
      },
      "execution_count": null,
      "outputs": [
        {
          "output_type": "stream",
          "name": "stdout",
          "text": [
            "8\n",
            "8\n"
          ]
        }
      ]
    },
    {
      "cell_type": "markdown",
      "source": [
        "Q9: Explain the purpose and usage of the `map()` function in Python.\n"
      ],
      "metadata": {
        "id": "jlcac6qRXZDz"
      }
    },
    {
      "cell_type": "code",
      "source": [
        "list1 = [1, 2, 3]\n",
        "list2 = [10, 20, 30]\n",
        "\n",
        "sum_lists = map(lambda x, y: x + y, list1, list2)\n",
        "\n",
        "print(list(sum_lists))"
      ],
      "metadata": {
        "colab": {
          "base_uri": "https://localhost:8080/"
        },
        "id": "7-C0Bi8kX5wJ",
        "outputId": "f2e17758-e156-4159-a3ce-23c2657170dc"
      },
      "execution_count": null,
      "outputs": [
        {
          "output_type": "stream",
          "name": "stdout",
          "text": [
            "[11, 22, 33]\n"
          ]
        }
      ]
    },
    {
      "cell_type": "markdown",
      "source": [
        "Q10: What is the difference between `map()`, `reduce()`, and `filter()` functions in Python?"
      ],
      "metadata": {
        "id": "tTfdFU9aYTm4"
      }
    },
    {
      "cell_type": "markdown",
      "source": [
        "map() Function"
      ],
      "metadata": {
        "id": "lId--mrGY915"
      }
    },
    {
      "cell_type": "code",
      "source": [
        "numbers = [1, 2, 3, 4, 5]\n",
        "squared = map(lambda x: x ** 2, numbers)\n",
        "print(list(squared))"
      ],
      "metadata": {
        "colab": {
          "base_uri": "https://localhost:8080/"
        },
        "id": "2Ry_TyW3Y-Rj",
        "outputId": "8e9177e1-2780-418c-8989-af203166815a"
      },
      "execution_count": null,
      "outputs": [
        {
          "output_type": "stream",
          "name": "stdout",
          "text": [
            "[1, 4, 9, 16, 25]\n"
          ]
        }
      ]
    },
    {
      "cell_type": "markdown",
      "source": [
        "filter() Function"
      ],
      "metadata": {
        "id": "ERuO_djMZAb1"
      }
    },
    {
      "cell_type": "code",
      "source": [
        "numbers = [1, 2, 3, 4, 5]\n",
        "even_numbers = filter(lambda x: x % 2 == 0, numbers)\n",
        "print(list(even_numbers))"
      ],
      "metadata": {
        "colab": {
          "base_uri": "https://localhost:8080/"
        },
        "id": "dvgBSVLAZFC6",
        "outputId": "e9e44e3e-5025-48eb-c77d-70af1451228b"
      },
      "execution_count": null,
      "outputs": [
        {
          "output_type": "stream",
          "name": "stdout",
          "text": [
            "[2, 4]\n"
          ]
        }
      ]
    },
    {
      "cell_type": "markdown",
      "source": [
        "reduce() Function (from functools module)"
      ],
      "metadata": {
        "id": "g2pDOZ0cZHg_"
      }
    },
    {
      "cell_type": "code",
      "source": [
        "from functools import reduce\n",
        "\n",
        "numbers = [1, 2, 3, 4, 5]\n",
        "sum_of_numbers = reduce(lambda x, y: x + y, numbers)\n",
        "print(sum_of_numbers)"
      ],
      "metadata": {
        "colab": {
          "base_uri": "https://localhost:8080/"
        },
        "id": "keD5J90LZINh",
        "outputId": "b719cc6c-b6b5-4c8d-a8d2-221ba475c2af"
      },
      "execution_count": null,
      "outputs": [
        {
          "output_type": "stream",
          "name": "stdout",
          "text": [
            "15\n"
          ]
        }
      ]
    },
    {
      "cell_type": "markdown",
      "source": [
        " Q11: Using pen & Paper write the internal mechanism for sum operation using  reduce function on this given list:[47,11,42,13];\n"
      ],
      "metadata": {
        "id": "H5RTbTZJcHeh"
      }
    },
    {
      "cell_type": "code",
      "source": [
        "def cumulative_sum(numbers):\n",
        "\n",
        "  total = 0\n",
        "  cumulative_sums = []\n",
        "  for number in numbers:\n",
        "    total += number\n",
        "    cumulative_sums.append(total)\n",
        "  return cumulative_sums\n",
        "\n",
        "initial_list = [47, 11, 42, 13]\n",
        "result = cumulative_sum(initial_list)\n",
        "print(result)"
      ],
      "metadata": {
        "colab": {
          "base_uri": "https://localhost:8080/"
        },
        "id": "vAWgDJCBcIMq",
        "outputId": "56f93068-fcfc-4b4c-ce1a-909a9118dffa"
      },
      "execution_count": null,
      "outputs": [
        {
          "output_type": "stream",
          "name": "stdout",
          "text": [
            "[47, 58, 100, 113]\n"
          ]
        }
      ]
    },
    {
      "cell_type": "markdown",
      "source": [
        "**Practical Questions:**"
      ],
      "metadata": {
        "id": "G4Q3rpTiid2-"
      }
    },
    {
      "cell_type": "markdown",
      "source": [
        "Q1: Write a Python function that takes a list of numbers as input and returns the sum of all even numbers in\n",
        "the list."
      ],
      "metadata": {
        "id": "Y6BvNWqtihQH"
      }
    },
    {
      "cell_type": "code",
      "source": [
        "def sum_of_even_numbers(numbers):\n",
        "    total = 0\n",
        "    for number in numbers:\n",
        "        if number % 2 == 0:\n",
        "            total += number\n",
        "    return total\n",
        "\n",
        "numbers_list = [47, 11, 42, 13, 8, 22]\n",
        "result = sum_of_even_numbers(numbers_list)\n",
        "print(\"Sum of even numbers:\", result)"
      ],
      "metadata": {
        "colab": {
          "base_uri": "https://localhost:8080/"
        },
        "id": "XbwJl7hyin5v",
        "outputId": "fd6a24a6-13cf-4a1b-ef62-c03f19d56fcb"
      },
      "execution_count": 35,
      "outputs": [
        {
          "output_type": "stream",
          "name": "stdout",
          "text": [
            "Sum of even numbers: 72\n"
          ]
        }
      ]
    },
    {
      "cell_type": "markdown",
      "source": [
        "Q2: Create a Python function that accepts a string and returns the reverse of that string."
      ],
      "metadata": {
        "id": "2UXnPrVrix8p"
      }
    },
    {
      "cell_type": "code",
      "source": [
        "def reverse_string(s):\n",
        "    return s[::-1]\n",
        "\n",
        "input_string = \"hello\"\n",
        "reversed_string = reverse_string(input_string)\n",
        "print(\"Reversed string:\", reversed_string)"
      ],
      "metadata": {
        "colab": {
          "base_uri": "https://localhost:8080/"
        },
        "id": "NKRcWpQvi4tx",
        "outputId": "a9919d0a-1981-4047-ee49-1db90df1c484"
      },
      "execution_count": 36,
      "outputs": [
        {
          "output_type": "stream",
          "name": "stdout",
          "text": [
            "Reversed string: olleh\n"
          ]
        }
      ]
    },
    {
      "cell_type": "markdown",
      "source": [
        "Q3: Implement a Python function that takes a list of integers and returns a new list containing the squares of\n",
        "each number."
      ],
      "metadata": {
        "id": "xuHVUvXei9AA"
      }
    },
    {
      "cell_type": "code",
      "source": [
        "def square_numbers(numbers):\n",
        "    return [number ** 2 for number in numbers]\n",
        "\n",
        "input_list = [1, 2, 3, 4, 5]\n",
        "squared_list = square_numbers(input_list)\n",
        "print(\"Squared numbers:\", squared_list)"
      ],
      "metadata": {
        "id": "n2KNlinGjB8T"
      },
      "execution_count": null,
      "outputs": []
    },
    {
      "cell_type": "markdown",
      "source": [
        "Q4: Write a Python function that checks if a given number is prime or not from 1 to 200."
      ],
      "metadata": {
        "id": "7jkuOvh-jJPF"
      }
    },
    {
      "cell_type": "code",
      "source": [
        "def is_prime(n):\n",
        "    if n <= 1:\n",
        "        return False\n",
        "    for i in range(2, int(n ** 0.5) + 1):\n",
        "        if n % i == 0:\n",
        "            return False\n",
        "    return True\n",
        "\n",
        "for num in range(1, 201):\n",
        "    if is_prime(num):\n",
        "        print(f\"{num} is prime\")"
      ],
      "metadata": {
        "colab": {
          "base_uri": "https://localhost:8080/"
        },
        "id": "EMG0GwPajPMV",
        "outputId": "81d689da-261b-4f57-e4ab-55b5e05597ca"
      },
      "execution_count": 37,
      "outputs": [
        {
          "output_type": "stream",
          "name": "stdout",
          "text": [
            "2 is prime\n",
            "3 is prime\n",
            "5 is prime\n",
            "7 is prime\n",
            "11 is prime\n",
            "13 is prime\n",
            "17 is prime\n",
            "19 is prime\n",
            "23 is prime\n",
            "29 is prime\n",
            "31 is prime\n",
            "37 is prime\n",
            "41 is prime\n",
            "43 is prime\n",
            "47 is prime\n",
            "53 is prime\n",
            "59 is prime\n",
            "61 is prime\n",
            "67 is prime\n",
            "71 is prime\n",
            "73 is prime\n",
            "79 is prime\n",
            "83 is prime\n",
            "89 is prime\n",
            "97 is prime\n",
            "101 is prime\n",
            "103 is prime\n",
            "107 is prime\n",
            "109 is prime\n",
            "113 is prime\n",
            "127 is prime\n",
            "131 is prime\n",
            "137 is prime\n",
            "139 is prime\n",
            "149 is prime\n",
            "151 is prime\n",
            "157 is prime\n",
            "163 is prime\n",
            "167 is prime\n",
            "173 is prime\n",
            "179 is prime\n",
            "181 is prime\n",
            "191 is prime\n",
            "193 is prime\n",
            "197 is prime\n",
            "199 is prime\n"
          ]
        }
      ]
    },
    {
      "cell_type": "markdown",
      "source": [
        "Q5: Create an iterator class in Python that generates the Fibonacci sequence up to a specified number of\n",
        "terms."
      ],
      "metadata": {
        "id": "U5DQtKrljZl1"
      }
    },
    {
      "cell_type": "code",
      "source": [
        "class FibonacciIterator:\n",
        "    def __init__(self, num_terms):\n",
        "        self.num_terms = num_terms\n",
        "        self.a, self.b = 0, 1\n",
        "        self.count = 0\n",
        "\n",
        "    def __iter__(self):\n",
        "        return self\n",
        "\n",
        "    def __next__(self):\n",
        "        if self.count < self.num_terms:\n",
        "            fib = self.a\n",
        "            self.a, self.b = self.b, self.a + self.b\n",
        "            self.count += 1\n",
        "            return fib\n",
        "        else:\n",
        "            raise StopIteration\n",
        "\n",
        "num_terms = 10\n",
        "fib_sequence = FibonacciIterator(num_terms)\n",
        "\n",
        "for num in fib_sequence:\n",
        "    print(num)"
      ],
      "metadata": {
        "colab": {
          "base_uri": "https://localhost:8080/"
        },
        "id": "Q-KYQJ62jbDl",
        "outputId": "10697830-4168-417b-d375-d2d3c08d23ea"
      },
      "execution_count": 39,
      "outputs": [
        {
          "output_type": "stream",
          "name": "stdout",
          "text": [
            "0\n",
            "1\n",
            "1\n",
            "2\n",
            "3\n",
            "5\n",
            "8\n",
            "13\n",
            "21\n",
            "34\n"
          ]
        }
      ]
    },
    {
      "cell_type": "markdown",
      "source": [
        "Q6:  Write a generator function in Python that yields the powers of 2 up to a given exponent."
      ],
      "metadata": {
        "id": "MR9doA9BjwgG"
      }
    },
    {
      "cell_type": "code",
      "source": [
        "def powers_of_2(exponent):\n",
        "    for i in range(exponent + 1):\n",
        "        yield 2 ** i\n",
        "\n",
        "exponent = 5\n",
        "for power in powers_of_2(exponent):\n",
        "    print(power)"
      ],
      "metadata": {
        "colab": {
          "base_uri": "https://localhost:8080/"
        },
        "id": "yxj6y8vrj0kZ",
        "outputId": "9fc4275a-f5d3-4d33-a1b4-6119b87ce54c"
      },
      "execution_count": 40,
      "outputs": [
        {
          "output_type": "stream",
          "name": "stdout",
          "text": [
            "1\n",
            "2\n",
            "4\n",
            "8\n",
            "16\n",
            "32\n"
          ]
        }
      ]
    },
    {
      "cell_type": "markdown",
      "source": [
        "Q7: Implement a generator function that reads a file line by line and yields each line as a string."
      ],
      "metadata": {
        "id": "_YM649zcj7zy"
      }
    },
    {
      "cell_type": "code",
      "source": [
        "def read_file_line_by_line(filename):\n",
        "    \"\"\"Reads a file line by line and yields each line as a string.\n",
        "\n",
        "    Args:\n",
        "        filename: The path to the file to read.\n",
        "\n",
        "    Yields:\n",
        "        Each line of the file as a string.\n",
        "    \"\"\"\n",
        "    try:\n",
        "        with open(filename, 'r') as file:\n",
        "            for line in file:\n",
        "                yield line.strip()\n",
        "    except FileNotFoundError:\n",
        "        print(f\"Error: File '{filename}' not found.\")"
      ],
      "metadata": {
        "id": "yk49nAbYj9vi"
      },
      "execution_count": 55,
      "outputs": []
    },
    {
      "cell_type": "code",
      "source": [
        "filename = 'my_file.txt'\n",
        "\n",
        "for line in read_file_line_by_line(filename):\n",
        "    print(line)"
      ],
      "metadata": {
        "colab": {
          "base_uri": "https://localhost:8080/"
        },
        "id": "jlChmeN-kbUc",
        "outputId": "8f09f962-42ef-49d8-aa9f-7196fe82a8dd"
      },
      "execution_count": 56,
      "outputs": [
        {
          "output_type": "stream",
          "name": "stdout",
          "text": [
            "Error: File 'my_file.txt' not found.\n"
          ]
        }
      ]
    },
    {
      "cell_type": "markdown",
      "source": [
        "Q8: Use a lambda function in Python to sort a list of tuples based on the second element of each tuple."
      ],
      "metadata": {
        "id": "CbfHL0BimHUP"
      }
    },
    {
      "cell_type": "code",
      "source": [
        "\n",
        "tuples_list = [(1, 3), (2, 1), (4, 2), (3, 4)]\n",
        "\n",
        "sorted_list = sorted(tuples_list, key=lambda x: x[1])\n",
        "\n",
        "print(sorted_list)"
      ],
      "metadata": {
        "colab": {
          "base_uri": "https://localhost:8080/"
        },
        "id": "PIdY_QeGmL4_",
        "outputId": "648f6d82-867e-4e53-f750-af3b51f8f0ad"
      },
      "execution_count": 57,
      "outputs": [
        {
          "output_type": "stream",
          "name": "stdout",
          "text": [
            "[(2, 1), (4, 2), (1, 3), (3, 4)]\n"
          ]
        }
      ]
    },
    {
      "cell_type": "markdown",
      "source": [
        "Q9: Write a Python program that uses `map()` to convert a list of temperatures from Celsius to Fahrenheit."
      ],
      "metadata": {
        "id": "-7A-WDZjmRM_"
      }
    },
    {
      "cell_type": "code",
      "source": [
        "celsius_temps = [0, 20, 30, 40, 100]\n",
        "\n",
        "def celsius_to_fahrenheit(celsius):\n",
        "    return (celsius * 9/5) + 32\n",
        "\n",
        "fahrenheit_temps = list(map(celsius_to_fahrenheit, celsius_temps))\n",
        "\n",
        "print(fahrenheit_temps)"
      ],
      "metadata": {
        "colab": {
          "base_uri": "https://localhost:8080/"
        },
        "id": "0ua3UTZ8mWez",
        "outputId": "570bbc61-4d6f-4702-a00c-73abf81883f2"
      },
      "execution_count": 58,
      "outputs": [
        {
          "output_type": "stream",
          "name": "stdout",
          "text": [
            "[32.0, 68.0, 86.0, 104.0, 212.0]\n"
          ]
        }
      ]
    },
    {
      "cell_type": "markdown",
      "source": [
        "Q10: Create a Python program that uses `filter()` to remove all the vowels from a given string."
      ],
      "metadata": {
        "id": "eQkdzg82mgRc"
      }
    },
    {
      "cell_type": "code",
      "source": [
        "def is_not_vowel(char):\n",
        "    return char.lower() not in 'aeiou'\n",
        "\n",
        "input_string = \"Hello, World!\"\n",
        "\n",
        "filtered_string = ''.join(filter(is_not_vowel, input_string))\n",
        "\n",
        "print(filtered_string)"
      ],
      "metadata": {
        "colab": {
          "base_uri": "https://localhost:8080/"
        },
        "id": "4t94mkZImhs-",
        "outputId": "cd0159d4-4298-40c5-bb6f-b77a7b677c63"
      },
      "execution_count": 59,
      "outputs": [
        {
          "output_type": "stream",
          "name": "stdout",
          "text": [
            "Hll, Wrld!\n"
          ]
        }
      ]
    },
    {
      "cell_type": "markdown",
      "source": [
        "Q11: Imagine an accounting routine used in a book shop. It works on a list with sublists, which look like this:\n",
        " Write a Python program, which returns a list with 2-tuples. Each tuple consists of the order number and the\n",
        "product of the price per item and the quantity. The product should be increased by 10,- € if the value of the\n",
        "order is smaller than 100,00 €.\n",
        " Write a Python program using lambda and map.![Screenshot 2024-11-17 202859.png](data:image/png;base64,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)"
      ],
      "metadata": {
        "id": "K4NUB1cKmt8K"
      }
    },
    {
      "cell_type": "code",
      "source": [
        "orders = [\n",
        "    [34587, \"Learning Python\", 4, 45.50],\n",
        "    [98762, \"Programming Python\", 5, 56.00],\n",
        "    [77226, \"Head First Python\", 3, 32.95],\n",
        "    [88112, \"Python Cookbook\", 3, 24.99]\n",
        "]\n",
        "\n",
        "result = list(map(\n",
        "    lambda order: (order[0], order[2] * order[3] + (10 if order[2] * order[3] < 100 else 0)),\n",
        "    orders\n",
        "))\n",
        "\n",
        "print(result)"
      ],
      "metadata": {
        "colab": {
          "base_uri": "https://localhost:8080/"
        },
        "id": "-MGRsS_FmxMC",
        "outputId": "dd8cbd96-68af-4284-95e9-78f4cc11f60d"
      },
      "execution_count": 61,
      "outputs": [
        {
          "output_type": "stream",
          "name": "stdout",
          "text": [
            "[(34587, 182.0), (98762, 280.0), (77226, 108.85000000000001), (88112, 84.97)]\n"
          ]
        }
      ]
    }
  ]
}