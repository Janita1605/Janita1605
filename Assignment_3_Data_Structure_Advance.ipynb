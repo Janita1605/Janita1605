{
  "nbformat": 4,
  "nbformat_minor": 0,
  "metadata": {
    "colab": {
      "provenance": [],
      "authorship_tag": "ABX9TyOi4If1VdIfZMNcnRPLAjaq",
      "include_colab_link": true
    },
    "kernelspec": {
      "name": "python3",
      "display_name": "Python 3"
    },
    "language_info": {
      "name": "python"
    }
  },
  "cells": [
    {
      "cell_type": "markdown",
      "metadata": {
        "id": "view-in-github",
        "colab_type": "text"
      },
      "source": [
        "<a href=\"https://colab.research.google.com/github/Janita1605/Janita1605/blob/main/Assignment_3_Data_Structure_Advance.ipynb\" target=\"_parent\"><img src=\"https://colab.research.google.com/assets/colab-badge.svg\" alt=\"Open In Colab\"/></a>"
      ]
    },
    {
      "cell_type": "markdown",
      "source": [
        "Q1: Write a code to reverse a string"
      ],
      "metadata": {
        "id": "oIh7KJHpXuJs"
      }
    },
    {
      "cell_type": "code",
      "source": [
        "def reverse_string(s):\n",
        "  return s[::-1]\n",
        "\n",
        "input_string = \"Python\"\n",
        "reversed_string = reverse_string(input_string)\n",
        "print(reversed_string)"
      ],
      "metadata": {
        "colab": {
          "base_uri": "https://localhost:8080/"
        },
        "id": "m6aKaJzPYqDO",
        "outputId": "6ca8cd1f-ea06-4b5f-d2ea-f08633e15505"
      },
      "execution_count": 6,
      "outputs": [
        {
          "output_type": "stream",
          "name": "stdout",
          "text": [
            "nohtyP\n"
          ]
        }
      ]
    },
    {
      "cell_type": "markdown",
      "source": [
        "Q2: Write a code to count the number of vowels in a string"
      ],
      "metadata": {
        "id": "enWJiiu5YClu"
      }
    },
    {
      "cell_type": "code",
      "source": [
        "def count_vowels(s):\n",
        "    vowels = \"aeiouAEIOU\"\n",
        "    count = 0\n",
        "    for char in s:\n",
        "        if char in vowels:\n",
        "            count += 1\n",
        "\n",
        "    return count\n",
        "input_string = \"Hello, World!\"\n",
        "vowel_count = count_vowels(input_string)\n",
        "\n",
        "print(\"Original String:\", input_string)\n",
        "print(\"Number of Vowels:\", vowel_count)"
      ],
      "metadata": {
        "colab": {
          "base_uri": "https://localhost:8080/"
        },
        "id": "iksJlO3YYE2A",
        "outputId": "64f0867e-d5be-421c-9c5e-bfb27e4516bb"
      },
      "execution_count": 9,
      "outputs": [
        {
          "output_type": "stream",
          "name": "stdout",
          "text": [
            "Original String: Hello, World!\n",
            "Number of Vowels: 3\n"
          ]
        }
      ]
    },
    {
      "cell_type": "markdown",
      "source": [
        "Q3:  Write a code to check if a given string is a palindrome or not"
      ],
      "metadata": {
        "id": "uZFyAwpqZkxU"
      }
    },
    {
      "cell_type": "code",
      "source": [
        "def is_palindrome(s):\n",
        "\n",
        "    s = s.replace(\" \", \"\").lower()\n",
        "\n",
        "    return s == s[::-1]\n",
        "\n",
        "input_string = \"A man a plan a canal Panama\"\n",
        "if is_palindrome(input_string):\n",
        "    print(f\"'{input_string}' is a palindrome.\")\n",
        "else:\n",
        "    print(f\"'{input_string}' is not a palindrome.\")"
      ],
      "metadata": {
        "colab": {
          "base_uri": "https://localhost:8080/"
        },
        "id": "XaHaSBVdZRiG",
        "outputId": "5b0f4184-9939-48c7-bae1-8848ab16af82"
      },
      "execution_count": 15,
      "outputs": [
        {
          "output_type": "stream",
          "name": "stdout",
          "text": [
            "'A man a plan a canal Panama' is a palindrome.\n"
          ]
        }
      ]
    },
    {
      "cell_type": "markdown",
      "source": [
        "Q4: Write a code to check if two given strings are anagrams of each other"
      ],
      "metadata": {
        "id": "7rjCyh-taBUP"
      }
    },
    {
      "cell_type": "code",
      "source": [
        "def are_anagrams(str1, str2):\n",
        "\n",
        "    str1 = str1.replace(\" \", \"\").lower()\n",
        "    str2 = str2.replace(\" \", \"\").lower()\n",
        "\n",
        "    return sorted(str1) == sorted(str2)\n",
        "\n",
        "string1 = \"Listen\"\n",
        "string2 = \"Silent\"\n",
        "\n",
        "if are_anagrams(string1, string2):\n",
        "    print(f\"'{string1}' and '{string2}' are anagrams.\")\n",
        "else:\n",
        "    print(f\"'{string1}' and '{string2}' are not anagrams.\")"
      ],
      "metadata": {
        "colab": {
          "base_uri": "https://localhost:8080/"
        },
        "id": "vJx18cabaDGt",
        "outputId": "82646531-c817-4a49-a29c-335c1a2d854f"
      },
      "execution_count": 19,
      "outputs": [
        {
          "output_type": "stream",
          "name": "stdout",
          "text": [
            "'Listen' and 'Silent' are anagrams.\n"
          ]
        }
      ]
    },
    {
      "cell_type": "markdown",
      "source": [
        "Q5:  Write a code to find all occurrences of a given substring within another string"
      ],
      "metadata": {
        "id": "bQSSLWxJatXs"
      }
    },
    {
      "cell_type": "code",
      "source": [
        "def find_all_occurrences(string, substring):\n",
        "    positions = []\n",
        "    start = 0\n",
        "\n",
        "    while start < len(string):\n",
        "        start = string.find(substring, start)\n",
        "        if start == -1:\n",
        "            break\n",
        "        positions.append(start)\n",
        "        start += 1\n",
        "\n",
        "    return positions\n",
        "\n",
        "input_string = \"This is a test. Test it.\"\n",
        "substring = \"test\"\n",
        "print(find_all_occurrences(input_string, substring))"
      ],
      "metadata": {
        "colab": {
          "base_uri": "https://localhost:8080/"
        },
        "id": "aa3LS5xQa4q6",
        "outputId": "ca70c967-5f4e-4253-f99b-e41557cf213c"
      },
      "execution_count": 21,
      "outputs": [
        {
          "output_type": "stream",
          "name": "stdout",
          "text": [
            "[10]\n"
          ]
        }
      ]
    },
    {
      "cell_type": "markdown",
      "source": [
        "Q6:  Write a code to perform basic string compression using the counts of repeated characters"
      ],
      "metadata": {
        "id": "SwVICb65bD3N"
      }
    },
    {
      "cell_type": "code",
      "source": [
        "def compress_string(s):\n",
        "    compressed = \"\"\n",
        "    count = 1\n",
        "\n",
        "    for i in range(1, len(s)):\n",
        "        if s[i] == s[i - 1]:\n",
        "            count += 1\n",
        "        else:\n",
        "            compressed += s[i - 1] + str(count)\n",
        "            count = 1\n",
        "\n",
        "    compressed += s[-1] + str(count)\n",
        "\n",
        "    return compressed if len(compressed) < len(s) else s\n",
        "\n",
        "\n",
        "input_string = \"aaabbbcccdde\"\n",
        "print(\"Compressed String:\", compress_string(input_string))"
      ],
      "metadata": {
        "colab": {
          "base_uri": "https://localhost:8080/"
        },
        "id": "4YzZ2YGubPdz",
        "outputId": "bd1cd4a2-dad3-4bb5-a187-98ca19aa835a"
      },
      "execution_count": 22,
      "outputs": [
        {
          "output_type": "stream",
          "name": "stdout",
          "text": [
            "Compressed String: a3b3c3d2e1\n"
          ]
        }
      ]
    },
    {
      "cell_type": "markdown",
      "source": [
        "Q7:  Write a code to determine if a string has all unique characters"
      ],
      "metadata": {
        "id": "9IkgEu8DbXYr"
      }
    },
    {
      "cell_type": "code",
      "source": [
        "def has_unique_characters(s):\n",
        "    return len(s) == len(set(s))\n",
        "\n",
        "input_string = \"abcdef\"\n",
        "print(has_unique_characters(input_string))\n",
        "\n",
        "input_string2 = \"aabbcc\"\n",
        "print(has_unique_characters(input_string2))"
      ],
      "metadata": {
        "colab": {
          "base_uri": "https://localhost:8080/"
        },
        "id": "hxJ-jEPFbZSU",
        "outputId": "cf862096-fd7c-4cba-9031-ec3a39433a31"
      },
      "execution_count": 23,
      "outputs": [
        {
          "output_type": "stream",
          "name": "stdout",
          "text": [
            "True\n",
            "False\n"
          ]
        }
      ]
    },
    {
      "cell_type": "markdown",
      "source": [
        "Q8: Write a code to convert a given string to uppercase or lowercase"
      ],
      "metadata": {
        "id": "Lx5nGD_Cbotz"
      }
    },
    {
      "cell_type": "code",
      "source": [
        "def convert_case(s, to_upper=True):\n",
        "    if to_upper:\n",
        "        return s.upper()\n",
        "    else:\n",
        "        return s.lower()\n",
        "\n",
        "input_string = \"Hello, World!\"\n",
        "\n",
        "print(\"Uppercase:\", convert_case(input_string, True))\n",
        "\n",
        "print(\"Lowercase:\", convert_case(input_string, False))"
      ],
      "metadata": {
        "colab": {
          "base_uri": "https://localhost:8080/"
        },
        "id": "2P0d7FW_bsuN",
        "outputId": "75a772fb-1f41-4b13-b96e-65639939a891"
      },
      "execution_count": 24,
      "outputs": [
        {
          "output_type": "stream",
          "name": "stdout",
          "text": [
            "Uppercase: HELLO, WORLD!\n",
            "Lowercase: hello, world!\n"
          ]
        }
      ]
    },
    {
      "cell_type": "markdown",
      "source": [
        "Q9:  Write a code to count the number of words in a string"
      ],
      "metadata": {
        "id": "xOCsotB-b3QS"
      }
    },
    {
      "cell_type": "code",
      "source": [
        "def count_words(s):\n",
        "\n",
        "    words = s.split()\n",
        "    return len(words)\n",
        "\n",
        "input_string = \"This is a test string\"\n",
        "print(\"Number of words:\", count_words(input_string))"
      ],
      "metadata": {
        "colab": {
          "base_uri": "https://localhost:8080/"
        },
        "id": "4XdPuL0Db7-g",
        "outputId": "800478b3-b496-4171-fdd1-b62f1b107af7"
      },
      "execution_count": 25,
      "outputs": [
        {
          "output_type": "stream",
          "name": "stdout",
          "text": [
            "Number of words: 5\n"
          ]
        }
      ]
    },
    {
      "cell_type": "markdown",
      "source": [
        "Q10: Write a code to concatenate two strings without using the + operator"
      ],
      "metadata": {
        "id": "IYtDaQUrcKVz"
      }
    },
    {
      "cell_type": "code",
      "source": [
        "def concatenate_strings(s1, s2):\n",
        "    return ''.join([s1, s2])\n",
        "\n",
        "string1 = \"Hello, \"\n",
        "string2 = \"World!\"\n",
        "result = concatenate_strings(string1, string2)\n",
        "print(result)"
      ],
      "metadata": {
        "colab": {
          "base_uri": "https://localhost:8080/"
        },
        "id": "Z5ra-NgIcPJw",
        "outputId": "dc363355-a13d-4d3a-f4f8-85ea964afb7e"
      },
      "execution_count": 26,
      "outputs": [
        {
          "output_type": "stream",
          "name": "stdout",
          "text": [
            "Hello, World!\n"
          ]
        }
      ]
    },
    {
      "cell_type": "markdown",
      "source": [
        "Q11:  Write a code to remove all occurrences of a specific element from a list"
      ],
      "metadata": {
        "id": "KZZ2f1jgaIMS"
      }
    },
    {
      "cell_type": "code",
      "source": [
        "def remove_all_occurrences(lst, element):\n",
        "    return [item for item in lst if item != element]\n",
        "\n",
        "input_list = [1, 2, 3, 4, 3, 5, 3, 6]\n",
        "element_to_remove = 3\n",
        "result = remove_all_occurrences(input_list, element_to_remove)\n",
        "print(\"List after removal:\", result)"
      ],
      "metadata": {
        "colab": {
          "base_uri": "https://localhost:8080/"
        },
        "id": "0LnU4yZcaO3P",
        "outputId": "673b83f2-afb1-41d8-9076-e0aeab7f280a"
      },
      "execution_count": 1,
      "outputs": [
        {
          "output_type": "stream",
          "name": "stdout",
          "text": [
            "List after removal: [1, 2, 4, 5, 6]\n"
          ]
        }
      ]
    },
    {
      "cell_type": "markdown",
      "source": [
        "Q12: Implement a code to find the second largest number in a given list of integers"
      ],
      "metadata": {
        "id": "WUDUV5isaaUH"
      }
    },
    {
      "cell_type": "code",
      "source": [
        "def second_largest(nums):\n",
        "    unique_nums = list(set(nums))\n",
        "    unique_nums.sort()\n",
        "    return unique_nums[-2] if len(unique_nums) >= 2 else None\n",
        "\n",
        "numbers = [10, 20, 4, 45, 99]\n",
        "print(\"The second largest number is:\", second_largest(numbers))"
      ],
      "metadata": {
        "colab": {
          "base_uri": "https://localhost:8080/"
        },
        "id": "igK9JIFKacOA",
        "outputId": "aa531d15-df50-4d96-a1af-8def001bdd29"
      },
      "execution_count": 2,
      "outputs": [
        {
          "output_type": "stream",
          "name": "stdout",
          "text": [
            "The second largest number is: 45\n"
          ]
        }
      ]
    },
    {
      "cell_type": "markdown",
      "source": [
        "Q13:  Create a code to count the occurrences of each element in a list and return a dictionary with elements as\n",
        "keys and their counts as values"
      ],
      "metadata": {
        "id": "RjFC-zS6aqlP"
      }
    },
    {
      "cell_type": "code",
      "source": [
        "def count_occurrences(lst):\n",
        "    counts = {}\n",
        "\n",
        "    for item in lst:\n",
        "        counts[item] = counts.get(item, 0) + 1\n",
        "\n",
        "    return counts\n",
        "\n",
        "input_list = [1, 2, 2, 3, 4, 4, 4, 5]\n",
        "result = count_occurrences(input_list)\n",
        "print(\"Element counts:\", result)"
      ],
      "metadata": {
        "colab": {
          "base_uri": "https://localhost:8080/"
        },
        "id": "clpdMOYIaugB",
        "outputId": "8bf7b9aa-9b17-4c25-f518-2e8619979aad"
      },
      "execution_count": 3,
      "outputs": [
        {
          "output_type": "stream",
          "name": "stdout",
          "text": [
            "Element counts: {1: 1, 2: 2, 3: 1, 4: 3, 5: 1}\n"
          ]
        }
      ]
    },
    {
      "cell_type": "markdown",
      "source": [
        "Q14: Write a code to reverse a list in-place without using any built-in reverse functions"
      ],
      "metadata": {
        "id": "xaENmiqna2SV"
      }
    },
    {
      "cell_type": "code",
      "source": [
        "def reverse_list(lst):\n",
        "    left = 0\n",
        "    right = len(lst) - 1\n",
        "\n",
        "    while left < right:\n",
        "        lst[left], lst[right] = lst[right], lst[left]\n",
        "\n",
        "        left += 1\n",
        "        right -= 1\n",
        "\n",
        "input_list = [1, 2, 3, 4, 5]\n",
        "reverse_list(input_list)\n",
        "print(\"Reversed list:\", input_list)"
      ],
      "metadata": {
        "colab": {
          "base_uri": "https://localhost:8080/"
        },
        "id": "lGVsoCKBa_GU",
        "outputId": "74abbdb4-42f2-424d-fe8b-3d4fe31033cc"
      },
      "execution_count": 4,
      "outputs": [
        {
          "output_type": "stream",
          "name": "stdout",
          "text": [
            "Reversed list: [5, 4, 3, 2, 1]\n"
          ]
        }
      ]
    },
    {
      "cell_type": "markdown",
      "source": [
        "Q15: Implement a code to find and remove duplicates from a list while preserving the original order of\n",
        "elements"
      ],
      "metadata": {
        "id": "khd_ecAWbEtM"
      }
    },
    {
      "cell_type": "code",
      "source": [
        "def remove_duplicates(lst):\n",
        "    seen = set()\n",
        "    result = []\n",
        "\n",
        "    for item in lst:\n",
        "        if item not in seen:\n",
        "            seen.add(item)\n",
        "            result.append(item)\n",
        "\n",
        "    return result\n",
        "\n",
        "input_list = [1, 2, 3, 2, 4, 1, 5, 3]\n",
        "unique_list = remove_duplicates(input_list)\n",
        "print(\"List after removing duplicates:\", unique_list)"
      ],
      "metadata": {
        "colab": {
          "base_uri": "https://localhost:8080/"
        },
        "id": "N3Oq21agbOUr",
        "outputId": "34709dee-8151-4ca1-a6e7-edd920276e39"
      },
      "execution_count": 5,
      "outputs": [
        {
          "output_type": "stream",
          "name": "stdout",
          "text": [
            "List after removing duplicates: [1, 2, 3, 4, 5]\n"
          ]
        }
      ]
    },
    {
      "cell_type": "markdown",
      "source": [
        "Q16: Create a code to check if a given list is sorted (either in ascending or descending order) or not"
      ],
      "metadata": {
        "id": "J1YKAiqfbTM3"
      }
    },
    {
      "cell_type": "code",
      "source": [
        "def is_sorted(lst):\n",
        "    if lst == sorted(lst):\n",
        "        return \"Ascending order\"\n",
        "    elif lst == sorted(lst, reverse=True):\n",
        "        return \"Descending order\"\n",
        "    else:\n",
        "        return \"Not sorted\"\n",
        "\n",
        "list1 = [1, 2, 3, 4, 5]\n",
        "list2 = [5, 4, 3, 2, 1]\n",
        "list3 = [3, 1, 4, 2]\n",
        "\n",
        "print(\"List1:\", is_sorted(list1))\n",
        "print(\"List2:\", is_sorted(list2))\n",
        "print(\"List3:\", is_sorted(list3))"
      ],
      "metadata": {
        "colab": {
          "base_uri": "https://localhost:8080/"
        },
        "id": "7A_bGYOpmzj0",
        "outputId": "d14cb3ed-1d45-4b63-ebe0-32e7aa74a258"
      },
      "execution_count": 6,
      "outputs": [
        {
          "output_type": "stream",
          "name": "stdout",
          "text": [
            "List1: Ascending order\n",
            "List2: Descending order\n",
            "List3: Not sorted\n"
          ]
        }
      ]
    },
    {
      "cell_type": "markdown",
      "source": [
        "Q17:  Write a code to merge two sorted lists into a single sorted list"
      ],
      "metadata": {
        "id": "oBozTemGm61c"
      }
    },
    {
      "cell_type": "code",
      "source": [
        "def merge_sorted_lists(list1, list2):\n",
        "    return sorted(list1 + list2)\n",
        "\n",
        "sorted_list1 = [1, 3, 5, 7]\n",
        "sorted_list2 = [2, 4, 6, 8]\n",
        "merged_sorted_list = merge_sorted_lists(sorted_list1, sorted_list2)\n",
        "print(\"Merged sorted list:\", merged_sorted_list)"
      ],
      "metadata": {
        "colab": {
          "base_uri": "https://localhost:8080/"
        },
        "id": "3JXawNiem9Cp",
        "outputId": "1395c2e8-84e6-4afb-93f0-8f6a210a88e3"
      },
      "execution_count": 7,
      "outputs": [
        {
          "output_type": "stream",
          "name": "stdout",
          "text": [
            "Merged sorted list: [1, 2, 3, 4, 5, 6, 7, 8]\n"
          ]
        }
      ]
    },
    {
      "cell_type": "markdown",
      "source": [
        "Q18: Implement a code to find the intersection of two given lists"
      ],
      "metadata": {
        "id": "lEShIGHrnLQr"
      }
    },
    {
      "cell_type": "code",
      "source": [
        "def list_intersection(list1, list2):\n",
        "    return [item for item in list1 if item in list2]\n",
        "\n",
        "list1 = [1, 2, 3, 4, 5]\n",
        "list2 = [4, 5, 6, 7, 8]\n",
        "intersection = list_intersection(list1, list2)\n",
        "print(\"Intersection of the two lists:\", intersection)"
      ],
      "metadata": {
        "colab": {
          "base_uri": "https://localhost:8080/"
        },
        "id": "l4RB_TqKnQlz",
        "outputId": "f6a67782-111a-4cd9-e3b0-a15a2ffb487b"
      },
      "execution_count": 8,
      "outputs": [
        {
          "output_type": "stream",
          "name": "stdout",
          "text": [
            "Intersection of the two lists: [4, 5]\n"
          ]
        }
      ]
    },
    {
      "cell_type": "markdown",
      "source": [
        "Q19:  Create a code to find the union of two lists without duplicates"
      ],
      "metadata": {
        "id": "RB_nFB56nTLN"
      }
    },
    {
      "cell_type": "code",
      "source": [
        "def union_lists(list1, list2):\n",
        "    return list(set(list1) | set(list2))\n",
        "\n",
        "list1 = [1, 2, 3, 4, 5]\n",
        "list2 = [4, 5, 6, 7, 8]\n",
        "union_result = union_lists(list1, list2)\n",
        "print(\"Union of the two lists without duplicates:\", union_result)"
      ],
      "metadata": {
        "colab": {
          "base_uri": "https://localhost:8080/"
        },
        "id": "lK6mSGYCnXS8",
        "outputId": "41468d43-2222-4a56-f509-b66fca46782e"
      },
      "execution_count": 9,
      "outputs": [
        {
          "output_type": "stream",
          "name": "stdout",
          "text": [
            "Union of the two lists without duplicates: [1, 2, 3, 4, 5, 6, 7, 8]\n"
          ]
        }
      ]
    },
    {
      "cell_type": "markdown",
      "source": [
        "Q20:  Write a code to shuffle a given list randomly without using any built-in shuffle functions"
      ],
      "metadata": {
        "id": "-Mb9RPbanvRk"
      }
    },
    {
      "cell_type": "code",
      "source": [
        "import random\n",
        "\n",
        "def shuffle_list(lst):\n",
        "    for i in range(len(lst) - 1, 0, -1):\n",
        "        j = random.randint(0, i)\n",
        "        lst[i], lst[j] = lst[j], lst[i]\n",
        "\n",
        "input_list = [1, 2, 3, 4, 5]\n",
        "shuffle_list(input_list)\n",
        "print(\"Shuffled list:\", input_list)"
      ],
      "metadata": {
        "colab": {
          "base_uri": "https://localhost:8080/"
        },
        "id": "TK17tlU7nyVJ",
        "outputId": "24e373bb-93a0-462c-e2b7-aa8ec588b5ef"
      },
      "execution_count": 12,
      "outputs": [
        {
          "output_type": "stream",
          "name": "stdout",
          "text": [
            "Shuffled list: [5, 1, 3, 4, 2]\n"
          ]
        }
      ]
    },
    {
      "cell_type": "markdown",
      "source": [
        "Q21: Write a code that takes two tuples as input and returns a new tuple containing elements that are\n",
        "common to both input tuples"
      ],
      "metadata": {
        "id": "Dxu32vExoV6x"
      }
    },
    {
      "cell_type": "code",
      "source": [
        "def common_elements(tuple1, tuple2):\n",
        "    return tuple(item for item in tuple1 if item in tuple2)\n",
        "\n",
        "tuple1 = (1, 2, 3, 4, 5)\n",
        "tuple2 = (4, 5, 6, 7, 8)\n",
        "result = common_elements(tuple1, tuple2)\n",
        "print(\"Common elements:\", result)"
      ],
      "metadata": {
        "colab": {
          "base_uri": "https://localhost:8080/"
        },
        "id": "q7uCDe0EoX0i",
        "outputId": "e3446418-687d-45e6-af14-aa1501633cac"
      },
      "execution_count": 13,
      "outputs": [
        {
          "output_type": "stream",
          "name": "stdout",
          "text": [
            "Common elements: (4, 5)\n"
          ]
        }
      ]
    },
    {
      "cell_type": "markdown",
      "source": [
        "Q22: Create a code that prompts the user to enter two sets of integers separated by commas. Then, print the\n",
        "intersection of these two sets"
      ],
      "metadata": {
        "id": "3X8rzOnioc72"
      }
    },
    {
      "cell_type": "code",
      "source": [
        "def get_intersection():\n",
        "    set1 = set(input(\"Enter the first set (comma separated): \").split(','))\n",
        "    set2 = set(input(\"Enter the second set (comma separated): \").split(','))\n",
        "    print(\"Intersection:\", set1 & set2)\n",
        "\n",
        "get_intersection()"
      ],
      "metadata": {
        "colab": {
          "base_uri": "https://localhost:8080/"
        },
        "id": "X7ZWyLO2A0V2",
        "outputId": "98e6a848-dbbf-485a-9870-90d107349119"
      },
      "execution_count": 4,
      "outputs": [
        {
          "output_type": "stream",
          "name": "stdout",
          "text": [
            "Enter the first set (comma separated): 10,20,30,40,50\n",
            "Enter the second set (comma separated): 40,50,60,70\n",
            "Intersection: {'50', '40'}\n"
          ]
        }
      ]
    },
    {
      "cell_type": "markdown",
      "source": [
        "Q23: Write a code to concatenate two tuples. The function should take two tuples as input and return a new\n",
        "tuple containing elements from both input tuples."
      ],
      "metadata": {
        "id": "KJSJljagBllY"
      }
    },
    {
      "cell_type": "code",
      "source": [
        "def concatenate_tuples(tuple1, tuple2):\n",
        "    return tuple1 + tuple2\n",
        "\n",
        "tuple1 = (1, 2, 3)\n",
        "tuple2 = (4, 5, 6)\n",
        "result = concatenate_tuples(tuple1, tuple2)\n",
        "print(\"Concatenated tuple:\", result)"
      ],
      "metadata": {
        "colab": {
          "base_uri": "https://localhost:8080/"
        },
        "id": "HFxh5y_oBrwh",
        "outputId": "bc27ca05-d567-4b54-b6bd-dbaad642c4a1"
      },
      "execution_count": 5,
      "outputs": [
        {
          "output_type": "stream",
          "name": "stdout",
          "text": [
            "Concatenated tuple: (1, 2, 3, 4, 5, 6)\n"
          ]
        }
      ]
    },
    {
      "cell_type": "markdown",
      "source": [
        "Q24: Develop a code that prompts the user to input two sets of strings. Then, print the elements that are\n",
        "present in the first set but not in the second se"
      ],
      "metadata": {
        "id": "S5s349-4Bv10"
      }
    },
    {
      "cell_type": "code",
      "source": [
        "set1 = set(input(\"Enter the first set (comma separated): \").split(','))\n",
        "set2 = set(input(\"Enter the second set (comma separated): \").split(','))\n",
        "print(\"Elements in the first set but not in the second:\", set1 - set2)"
      ],
      "metadata": {
        "colab": {
          "base_uri": "https://localhost:8080/"
        },
        "id": "7nT5cR6qBxwb",
        "outputId": "338ce669-0c25-41bd-fa3e-ecb56da14c49"
      },
      "execution_count": 6,
      "outputs": [
        {
          "output_type": "stream",
          "name": "stdout",
          "text": [
            "Enter the first set (comma separated): apple,banana,orange\n",
            "Enter the second set (comma separated): banana,apple,grape\n",
            "Elements in the first set but not in the second: {'orange'}\n"
          ]
        }
      ]
    },
    {
      "cell_type": "markdown",
      "source": [
        "Q25:  Create a code that takes a tuple and two integers as input. The function should return a new tuple\n",
        "containing elements from the original tuple within the specified range of indices"
      ],
      "metadata": {
        "id": "hqdO52fvCDJg"
      }
    },
    {
      "cell_type": "code",
      "source": [
        "def slice_tuple(tup, start, end):\n",
        "    return tup[start:end]\n",
        "\n",
        "tup = (10, 20, 30, 40, 50, 60)\n",
        "start = int(input(\"Start index: \"))\n",
        "end = int(input(\"End index: \"))\n",
        "print(\"Sliced tuple:\", slice_tuple(tup, start, end))"
      ],
      "metadata": {
        "colab": {
          "base_uri": "https://localhost:8080/"
        },
        "id": "lw-wWA8VCG7v",
        "outputId": "28549c4d-3813-4c80-e586-ef0f71215307"
      },
      "execution_count": 7,
      "outputs": [
        {
          "output_type": "stream",
          "name": "stdout",
          "text": [
            "Start index: 1\n",
            "End index: 4\n",
            "Sliced tuple: (20, 30, 40)\n"
          ]
        }
      ]
    },
    {
      "cell_type": "markdown",
      "source": [
        "Q26: Write a code that prompts the user to input two sets of characters. Then, print the union of these two sets"
      ],
      "metadata": {
        "id": "OSmEr7j1CXLu"
      }
    },
    {
      "cell_type": "code",
      "source": [
        "def union_of_sets():\n",
        "    set1 = set(input(\"Enter the first set of characters (comma separated): \").split(','))\n",
        "    set2 = set(input(\"Enter the second set of characters (comma separated): \").split(','))\n",
        "    union = set1 | set2\n",
        "    print(\"Union of the two sets:\", union)\n",
        "\n",
        "union_of_sets()"
      ],
      "metadata": {
        "colab": {
          "base_uri": "https://localhost:8080/"
        },
        "id": "Ux1gLxEuCbO6",
        "outputId": "4090801d-7068-429a-9567-56fbf9eaa0eb"
      },
      "execution_count": 9,
      "outputs": [
        {
          "output_type": "stream",
          "name": "stdout",
          "text": [
            "Enter the first set of characters (comma separated): c,d,e\n",
            "Enter the second set of characters (comma separated): a,b,c\n",
            "Union of the two sets: {'c', 'b', 'd', 'a', 'e'}\n"
          ]
        }
      ]
    },
    {
      "cell_type": "markdown",
      "source": [
        "27:  Develop a code that takes a tuple of integers as input. The function should return the maximum and\n",
        "minimum values from the tuple using tuple unpacking"
      ],
      "metadata": {
        "id": "QeyfmphVCvyg"
      }
    },
    {
      "cell_type": "code",
      "source": [
        "def find_max_min(numbers):\n",
        "    return max(numbers), min(numbers)\n",
        "\n",
        "numbers = tuple(map(int, input(\"Enter numbers separated by commas: \").split(',')))\n",
        "max_value, min_value = find_max_min(numbers)\n",
        "print(\"Maximum:\", max_value)\n",
        "print(\"Minimum:\", min_value)"
      ],
      "metadata": {
        "colab": {
          "base_uri": "https://localhost:8080/"
        },
        "id": "a-tfaPHAC3nR",
        "outputId": "da85b47f-d7cb-498d-c3d3-b9ac26655070"
      },
      "execution_count": 10,
      "outputs": [
        {
          "output_type": "stream",
          "name": "stdout",
          "text": [
            "Enter numbers separated by commas: 8,3,5,2,9\n",
            "Maximum: 9\n",
            "Minimum: 2\n"
          ]
        }
      ]
    },
    {
      "cell_type": "markdown",
      "source": [
        "Q28: Create a code that defines two sets of integers. Then, print the union, intersection, and difference of these\n",
        "two sets"
      ],
      "metadata": {
        "id": "VNnNq7yJDPuc"
      }
    },
    {
      "cell_type": "code",
      "source": [
        "set1 = {1, 2, 3, 4, 5}\n",
        "set2 = {4, 5, 6, 7, 8}\n",
        "\n",
        "union = set1 | set2\n",
        "intersection = set1 & set2\n",
        "difference = set1 - set2\n",
        "\n",
        "print(\"Union:\", union)\n",
        "print(\"Intersection:\", intersection)\n",
        "print(\"Difference (set1 - set2):\", difference)"
      ],
      "metadata": {
        "colab": {
          "base_uri": "https://localhost:8080/"
        },
        "id": "W_W3x7WjDR-8",
        "outputId": "f8e11f8e-889f-48ad-e304-b8cfc896ab2c"
      },
      "execution_count": 11,
      "outputs": [
        {
          "output_type": "stream",
          "name": "stdout",
          "text": [
            "Union: {1, 2, 3, 4, 5, 6, 7, 8}\n",
            "Intersection: {4, 5}\n",
            "Difference (set1 - set2): {1, 2, 3}\n"
          ]
        }
      ]
    },
    {
      "cell_type": "markdown",
      "source": [
        "Q29:  Write a code that takes a tuple and an element as input. The function should return the count of\n",
        "occurrences of the given element in the tuple"
      ],
      "metadata": {
        "id": "z6aAGF3cDyJW"
      }
    },
    {
      "cell_type": "code",
      "source": [
        "def count_occurrences(input_tuple, element):\n",
        "    return input_tuple.count(element)\n",
        "\n",
        "input_tuple = tuple(map(int, input(\"Enter a tuple of integers (comma separated): \").split(',')))\n",
        "element = int(input(\"Enter the element to count: \"))\n",
        "count = count_occurrences(input_tuple, element)\n",
        "print(f\"The element {element} occurs {count} times in the tuple.\")"
      ],
      "metadata": {
        "colab": {
          "base_uri": "https://localhost:8080/"
        },
        "id": "0MbcAgAID0k2",
        "outputId": "74d7fddc-993f-4569-c8f3-ddcae31fd82d"
      },
      "execution_count": 12,
      "outputs": [
        {
          "output_type": "stream",
          "name": "stdout",
          "text": [
            "Enter a tuple of integers (comma separated): 1,2,3,2,4,2,5\n",
            "Enter the element to count: 2\n",
            "The element 2 occurs 3 times in the tuple.\n"
          ]
        }
      ]
    },
    {
      "cell_type": "code",
      "source": [
        "Q30: Develop a code that prompts the user to input two sets of strings. Then, print the symmetric difference of\n",
        "these two sets"
      ],
      "metadata": {
        "id": "z2BWz8u-EBsk"
      },
      "execution_count": null,
      "outputs": []
    },
    {
      "cell_type": "code",
      "source": [
        "set1 = set(input(\"Enter the first set of strings (comma separated): \").split(','))\n",
        "set2 = set(input(\"Enter the second set of strings (comma separated): \").split(','))\n",
        "\n",
        "print(\"Symmetric Difference:\", set1 ^ set2)"
      ],
      "metadata": {
        "colab": {
          "base_uri": "https://localhost:8080/"
        },
        "id": "5myYPqaHENJC",
        "outputId": "1c9b72aa-7f83-4778-9157-ec417b351ca3"
      },
      "execution_count": 13,
      "outputs": [
        {
          "output_type": "stream",
          "name": "stdout",
          "text": [
            "Enter the first set of strings (comma separated): apple,banana,orange\n",
            "Enter the second set of strings (comma separated): banana,grape,orange\n",
            "Symmetric Difference: {'grape', 'apple'}\n"
          ]
        }
      ]
    },
    {
      "cell_type": "markdown",
      "source": [
        "Q31: Write a code that takes a list of words as input and returns a dictionary where the keys are unique words\n",
        "and the values are the frequencies of those words in the input list\n"
      ],
      "metadata": {
        "id": "D5msG5ZsEXlD"
      }
    },
    {
      "cell_type": "code",
      "source": [
        "words = input(\"Enter a list of words (comma separated): \").split(',')\n",
        "\n",
        "word_count = {word.strip(): words.count(word.strip()) for word in set(words)}\n",
        "\n",
        "print(\"Word Frequencies:\", word_count)"
      ],
      "metadata": {
        "colab": {
          "base_uri": "https://localhost:8080/"
        },
        "id": "nbArQF6-Edyk",
        "outputId": "63696c57-5538-40ee-a4b6-f91c872b487f"
      },
      "execution_count": 14,
      "outputs": [
        {
          "output_type": "stream",
          "name": "stdout",
          "text": [
            "Enter a list of words (comma separated): apple,banana,apple,orange,banana,apple\n",
            "Word Frequencies: {'banana': 2, 'orange': 1, 'apple': 3}\n"
          ]
        }
      ]
    },
    {
      "cell_type": "markdown",
      "source": [
        "Q32:  Write a code that takes two dictionaries as input and merges them into a single dictionary. If there are\n",
        "common keys, the values should be added together"
      ],
      "metadata": {
        "id": "kluKLSxJEi7-"
      }
    },
    {
      "cell_type": "code",
      "source": [
        "dict1 = eval(input(\"Enter the first dictionary: \"))\n",
        "dict2 = eval(input(\"Enter the second dictionary: \"))\n",
        "\n",
        "for key, value in dict2.items():\n",
        "    dict1[key] = dict1.get(key, 0) + value\n",
        "\n",
        "print(\"Merged Dictionary:\", dict1)"
      ],
      "metadata": {
        "colab": {
          "base_uri": "https://localhost:8080/"
        },
        "id": "1CcXNmeCEpwg",
        "outputId": "64e41677-38a3-4625-b913-1649b25ff247"
      },
      "execution_count": 15,
      "outputs": [
        {
          "output_type": "stream",
          "name": "stdout",
          "text": [
            "Enter the first dictionary: {'a': 1, 'b': 2}\n",
            "Enter the second dictionary: {'b': 3, 'c': 4}\n",
            "Merged Dictionary: {'a': 1, 'b': 5, 'c': 4}\n"
          ]
        }
      ]
    },
    {
      "cell_type": "markdown",
      "source": [
        "Q33: Write a code to access a value in a nested dictionary. The function should take the dictionary and a list of\n",
        "keys as input, and return the corresponding value. If any of the keys do not exist in the dictionary, the\n",
        "function should return None"
      ],
      "metadata": {
        "id": "WpTT5xQCEwAJ"
      }
    },
    {
      "cell_type": "code",
      "source": [
        "def access_nested_dict_value(nested_dict, keys):\n",
        "    for key in keys:\n",
        "        nested_dict = nested_dict.get(key)\n",
        "        if nested_dict is None:\n",
        "            return None\n",
        "    return nested_dict\n",
        "\n",
        "nested_dict = eval(input(\"Enter the nested dictionary: \"))\n",
        "keys = input(\"Enter the list of keys (comma separated): \").split(',')\n",
        "\n",
        "result = access_nested_dict_value(nested_dict, keys)\n",
        "print(\"Result:\", result)"
      ],
      "metadata": {
        "colab": {
          "base_uri": "https://localhost:8080/"
        },
        "id": "JPYgalo6E0GK",
        "outputId": "e2128de2-f67f-449f-a714-189cf4d15207"
      },
      "execution_count": 16,
      "outputs": [
        {
          "output_type": "stream",
          "name": "stdout",
          "text": [
            "Enter the nested dictionary: {'a': {'b': {'c': 5}}}\n",
            "Enter the list of keys (comma separated): (comma separated): a,b,c\n",
            "Result: None\n"
          ]
        }
      ]
    },
    {
      "cell_type": "markdown",
      "source": [
        "Q34:  Write a code that takes a dictionary as input and returns a sorted version of it based on the values. You\n",
        "can choose whether to sort in ascending or descending order"
      ],
      "metadata": {
        "id": "FHAK9dDeFOCZ"
      }
    },
    {
      "cell_type": "code",
      "source": [
        "def sort_dict_by_value(input_dict, ascending=True):\n",
        "    return dict(sorted(input_dict.items(), key=lambda item: item[1], reverse=not ascending))\n",
        "\n",
        "input_dict = eval(input(\"Enter the dictionary: \"))\n",
        "order = input(\"Enter 'asc' for ascending or 'desc' for descending order: \")\n",
        "\n",
        "sorted_dict = sort_dict_by_value(input_dict, ascending=(order == 'asc'))\n",
        "print(\"Sorted Dictionary:\", sorted_dict)"
      ],
      "metadata": {
        "colab": {
          "base_uri": "https://localhost:8080/"
        },
        "id": "jk2H1dPEFP1J",
        "outputId": "803055c1-4baf-4c11-a544-215ce8bac44d"
      },
      "execution_count": 17,
      "outputs": [
        {
          "output_type": "stream",
          "name": "stdout",
          "text": [
            "Enter the dictionary: {'a': 3, 'b': 1, 'c': 2}\n",
            "Enter 'asc' for ascending or 'desc' for descending order: asc\n",
            "Sorted Dictionary: {'b': 1, 'c': 2, 'a': 3}\n"
          ]
        }
      ]
    },
    {
      "cell_type": "code",
      "source": [
        "def sort_dict_by_value(input_dict, ascending=True):\n",
        "    return dict(sorted(input_dict.items(), key=lambda item: item[1], reverse=not ascending))\n",
        "\n",
        "input_dict = eval(input(\"Enter the dictionary: \"))\n",
        "order = input(\"Enter 'asc' for ascending or 'desc' for descending order: \")\n",
        "\n",
        "sorted_dict = sort_dict_by_value(input_dict, ascending=(order == 'asc'))\n",
        "print(\"Sorted Dictionary:\", sorted_dict)"
      ],
      "metadata": {
        "colab": {
          "base_uri": "https://localhost:8080/"
        },
        "id": "Ht03JoRIFbub",
        "outputId": "a25759a4-a091-46e6-e010-a7decc5ba883"
      },
      "execution_count": 18,
      "outputs": [
        {
          "output_type": "stream",
          "name": "stdout",
          "text": [
            "Enter the dictionary: {'a': 3, 'b': 1, 'c': 2}\n",
            "Enter 'asc' for ascending or 'desc' for descending order: desc\n",
            "Sorted Dictionary: {'a': 3, 'c': 2, 'b': 1}\n"
          ]
        }
      ]
    },
    {
      "cell_type": "markdown",
      "source": [
        "Q35: Write a code that inverts a dictionary, swapping keys and values. Ensure that the inverted dictionary\n",
        "correctly handles cases where multiple keys have the same value by storing the keys as a list in the\n",
        "inverted dictionary."
      ],
      "metadata": {
        "id": "bRRYRgCXFhm7"
      }
    },
    {
      "cell_type": "code",
      "source": [
        "def invert_dict(input_dict):\n",
        "    inverted_dict = {}\n",
        "    for key, value in input_dict.items():\n",
        "\n",
        "        if value in inverted_dict:\n",
        "            inverted_dict[value].append(key)\n",
        "        else:\n",
        "            inverted_dict[value] = [key]\n",
        "    return inverted_dict\n",
        "\n",
        "input_dict = eval(input(\"Enter the dictionary: \"))\n",
        "\n",
        "print(\"Inverted Dictionary:\", invert_dict(input_dict))"
      ],
      "metadata": {
        "colab": {
          "base_uri": "https://localhost:8080/"
        },
        "id": "Hdzdvh_KFlSG",
        "outputId": "0694b5c8-42c5-4455-d541-ac5bbd880ead"
      },
      "execution_count": 19,
      "outputs": [
        {
          "output_type": "stream",
          "name": "stdout",
          "text": [
            "Enter the dictionary: {'x': 10, 'y': 20, 'z': 10}\n",
            "Inverted Dictionary: {10: ['x', 'z'], 20: ['y']}\n"
          ]
        }
      ]
    }
  ]
}